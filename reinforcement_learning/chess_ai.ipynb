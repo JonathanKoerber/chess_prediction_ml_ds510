{
 "cells": [
  {
   "cell_type": "code",
   "execution_count": 1,
   "id": "initial_id",
   "metadata": {
    "collapsed": true,
    "is_executing": true
   },
   "outputs": [
    {
     "name": "stderr",
     "output_type": "stream",
     "text": [
      "2024-02-06 12:54:31.263538: I external/local_tsl/tsl/cuda/cudart_stub.cc:31] Could not find cuda drivers on your machine, GPU will not be used.\n",
      "2024-02-06 12:54:31.303335: E external/local_xla/xla/stream_executor/cuda/cuda_dnn.cc:9261] Unable to register cuDNN factory: Attempting to register factory for plugin cuDNN when one has already been registered\n",
      "2024-02-06 12:54:31.303377: E external/local_xla/xla/stream_executor/cuda/cuda_fft.cc:607] Unable to register cuFFT factory: Attempting to register factory for plugin cuFFT when one has already been registered\n",
      "2024-02-06 12:54:31.304535: E external/local_xla/xla/stream_executor/cuda/cuda_blas.cc:1515] Unable to register cuBLAS factory: Attempting to register factory for plugin cuBLAS when one has already been registered\n",
      "2024-02-06 12:54:31.310670: I external/local_tsl/tsl/cuda/cudart_stub.cc:31] Could not find cuda drivers on your machine, GPU will not be used.\n",
      "2024-02-06 12:54:31.311487: I tensorflow/core/platform/cpu_feature_guard.cc:182] This TensorFlow binary is optimized to use available CPU instructions in performance-critical operations.\n",
      "To enable the following instructions: AVX2 FMA, in other operations, rebuild TensorFlow with the appropriate compiler flags.\n",
      "2024-02-06 12:54:32.220850: W tensorflow/compiler/tf2tensorrt/utils/py_utils.cc:38] TF-TRT Warning: Could not find TensorRT\n"
     ]
    }
   ],
   "source": [
    "import chess\n",
    "import chess.engine\n",
    "import random\n",
    "import numpy as np\n",
    "import tensorflow as tf\n",
    "from tensorflow import keras\n",
    "from tensorflow.keras import layers\n",
    "from chess_env import ChessEnv"
   ]
  },
  {
   "cell_type": "code",
   "execution_count": 2,
   "id": "ac11fe4e1b6d2348",
   "metadata": {
    "collapsed": false
   },
   "outputs": [],
   "source": [
    "def build_model(input_shape, num_actions):\n",
    "    model = keras.Sequential([\n",
    "        layers.Input(shape=input_shape),\n",
    "        layers.Flatten(),\n",
    "        layers.Dense(64, activation='relu'),\n",
    "        layers.Dense(32, activation='relu'),\n",
    "        layers.Dense(num_actions, activation='linear')\n",
    "    ])\n",
    "    return model"
   ]
  },
  {
   "cell_type": "code",
   "execution_count": 3,
   "metadata": {},
   "outputs": [
    {
     "name": "stdout",
     "output_type": "stream",
     "text": [
      "(8, 8, 6)\n",
      "48 dict_keys(['string', 'depth', 'seldepth', 'multipv', 'score', 'nodes', 'nps', 'hashfull', 'tbhits', 'time', 'pv'])\n"
     ]
    }
   ],
   "source": [
    "from chess_env import ChessEnv\n",
    "\n",
    "chess_env = ChessEnv()\n",
    "input_shape = chess_env.observation_space.shape\n",
    "print(input_shape)\n",
    "analises = chess_env.engine.analyse(chess_env.board, limit=(chess.engine.Limit(time=0.1)))\n",
    "print(analises['score'].relative.score(), analises.keys())"
   ]
  },
  {
   "cell_type": "code",
   "execution_count": 4,
   "id": "6915a7eb",
   "metadata": {},
   "outputs": [
    {
     "name": "stdout",
     "output_type": "stream",
     "text": [
      "pov_score: +48\n",
      "r n b q k b n r\n",
      "p p p p p p p p\n",
      ". . . . . . . .\n",
      ". . . . . . . .\n",
      ". . . . . . . .\n",
      ". . . . . . . .\n",
      "P P P P P P P P\n",
      "R N B Q K B N R\n",
      "[Move.from_uci('g1h3'), Move.from_uci('g1f3'), Move.from_uci('b1c3'), Move.from_uci('b1a3'), Move.from_uci('h2h3'), Move.from_uci('g2g3'), Move.from_uci('f2f3'), Move.from_uci('e2e3'), Move.from_uci('d2d3'), Move.from_uci('c2c3'), Move.from_uci('b2b3'), Move.from_uci('a2a3'), Move.from_uci('h2h4'), Move.from_uci('g2g4'), Move.from_uci('f2f4'), Move.from_uci('e2e4'), Move.from_uci('d2d4'), Move.from_uci('c2c4'), Move.from_uci('b2b4'), Move.from_uci('a2a4')]\n",
      "r n b q k b n r\n",
      "p p p p p p p p\n",
      ". . . . . . . .\n",
      ". . . . . . . .\n",
      ". . . . . . . .\n",
      ". P . . . . . .\n",
      "P . P P P P P P\n",
      "R N B Q K B N R\n",
      "35\n",
      "pov_score: -48 black -48 <class 'chess.engine.Cp'>\n",
      "<class 'int'> <class 'chess.engine.PovScore'>\n"
     ]
    }
   ],
   "source": [
    "# allows to play ramdom moves and get score\n",
    "import random\n",
    "pov_score = analises['score']\n",
    "print(\"pov_score:\", pov_score)\n",
    "print(chess_env.board)\n",
    "moves = list(chess_env.board.legal_moves)\n",
    "print(moves)\n",
    "chess_env.board.push(moves[random.choice(range(len(moves)))])\n",
    "print(chess_env.board)\n",
    "\n",
    "\n",
    "analysis = chess_env.engine.analyse(chess_env.board, limit=(chess.engine.Limit(time=0.001)))\n",
    "\n",
    "\n",
    "advantage_white = analysis['score'].relative.score()\n",
    "print(advantage_white)\n",
    "pov_score = analises['score'].pov(chess_env.board.turn)\n",
    "print(\"pov_score:\", pov_score, \"white\" if chess_env.board.turn else \"black\", pov_score.score(), type(pov_score))\n",
    "print(type(advantage_white), type(analises['score']))\n"
   ]
  },
  {
   "cell_type": "code",
   "execution_count": 23,
   "id": "2e29fab7",
   "metadata": {},
   "outputs": [
    {
     "name": "stdout",
     "output_type": "stream",
     "text": [
      "-18.0 <class 'float'> <class 'float'> <class 'int'>\n",
      "<class 'tensorflow.python.framework.ops.EagerTensor'> <class 'tensorflow.python.framework.ops.EagerTensor'>\n"
     ]
    },
    {
     "ename": "InvalidArgumentError",
     "evalue": "cannot compute Mul as input #1(zero-based) was expected to be a float tensor but is a int64 tensor [Op:Mul] name: ",
     "output_type": "error",
     "traceback": [
      "\u001b[0;31m---------------------------------------------------------------------------\u001b[0m",
      "\u001b[0;31mInvalidArgumentError\u001b[0m                      Traceback (most recent call last)",
      "Cell \u001b[0;32mIn[23], line 36\u001b[0m\n\u001b[1;32m     32\u001b[0m \u001b[38;5;28mprint\u001b[39m(\u001b[38;5;28mtype\u001b[39m(reward_tensor), \u001b[38;5;28mtype\u001b[39m(discount_tensor))\n\u001b[1;32m     33\u001b[0m \u001b[38;5;66;03m# reward_tensor = tf.cast(reward_tensor, dtype=tf.float32)\u001b[39;00m\n\u001b[1;32m     34\u001b[0m \u001b[38;5;66;03m# discount_tensor = tf.cast(discount_tensor, dtype=tf.float32)\u001b[39;00m\n\u001b[0;32m---> 36\u001b[0m target \u001b[38;5;241m=\u001b[39m reward_tensor \u001b[38;5;241m+\u001b[39m \u001b[43mdiscount_tensor\u001b[49m\u001b[43m \u001b[49m\u001b[38;5;241;43m*\u001b[39;49m\u001b[43m \u001b[49m\u001b[43mtf\u001b[49m\u001b[38;5;241;43m.\u001b[39;49m\u001b[43mreduce_max\u001b[49m\u001b[43m(\u001b[49m\u001b[43mnext_state\u001b[49m\u001b[43m,\u001b[49m\u001b[43m \u001b[49m\u001b[43maxis\u001b[49m\u001b[38;5;241;43m=\u001b[39;49m\u001b[38;5;241;43m1\u001b[39;49m\u001b[43m)\u001b[49m\n\u001b[1;32m     38\u001b[0m \u001b[38;5;28;01mwith\u001b[39;00m tf\u001b[38;5;241m.\u001b[39mGradientTape() \u001b[38;5;28;01mas\u001b[39;00m tape:\n\u001b[1;32m     39\u001b[0m     q_values \u001b[38;5;241m=\u001b[39m model(state, training\u001b[38;5;241m=\u001b[39m\u001b[38;5;28;01mTrue\u001b[39;00m)\n",
      "File \u001b[0;32m~/CityUSeattle/artificial_intel_for_data_sciecnce_DS510/team-project/chess_prediction_ml_ds510/venv/lib/python3.10/site-packages/tensorflow/python/util/traceback_utils.py:153\u001b[0m, in \u001b[0;36mfilter_traceback.<locals>.error_handler\u001b[0;34m(*args, **kwargs)\u001b[0m\n\u001b[1;32m    151\u001b[0m \u001b[38;5;28;01mexcept\u001b[39;00m \u001b[38;5;167;01mException\u001b[39;00m \u001b[38;5;28;01mas\u001b[39;00m e:\n\u001b[1;32m    152\u001b[0m   filtered_tb \u001b[38;5;241m=\u001b[39m _process_traceback_frames(e\u001b[38;5;241m.\u001b[39m__traceback__)\n\u001b[0;32m--> 153\u001b[0m   \u001b[38;5;28;01mraise\u001b[39;00m e\u001b[38;5;241m.\u001b[39mwith_traceback(filtered_tb) \u001b[38;5;28;01mfrom\u001b[39;00m \u001b[38;5;28;01mNone\u001b[39;00m\n\u001b[1;32m    154\u001b[0m \u001b[38;5;28;01mfinally\u001b[39;00m:\n\u001b[1;32m    155\u001b[0m   \u001b[38;5;28;01mdel\u001b[39;00m filtered_tb\n",
      "File \u001b[0;32m~/CityUSeattle/artificial_intel_for_data_sciecnce_DS510/team-project/chess_prediction_ml_ds510/venv/lib/python3.10/site-packages/tensorflow/python/framework/ops.py:5883\u001b[0m, in \u001b[0;36mraise_from_not_ok_status\u001b[0;34m(e, name)\u001b[0m\n\u001b[1;32m   5881\u001b[0m \u001b[38;5;28;01mdef\u001b[39;00m \u001b[38;5;21mraise_from_not_ok_status\u001b[39m(e, name) \u001b[38;5;241m-\u001b[39m\u001b[38;5;241m>\u001b[39m NoReturn:\n\u001b[1;32m   5882\u001b[0m   e\u001b[38;5;241m.\u001b[39mmessage \u001b[38;5;241m+\u001b[39m\u001b[38;5;241m=\u001b[39m (\u001b[38;5;124m\"\u001b[39m\u001b[38;5;124m name: \u001b[39m\u001b[38;5;124m\"\u001b[39m \u001b[38;5;241m+\u001b[39m \u001b[38;5;28mstr\u001b[39m(name \u001b[38;5;28;01mif\u001b[39;00m name \u001b[38;5;129;01mis\u001b[39;00m \u001b[38;5;129;01mnot\u001b[39;00m \u001b[38;5;28;01mNone\u001b[39;00m \u001b[38;5;28;01melse\u001b[39;00m \u001b[38;5;124m\"\u001b[39m\u001b[38;5;124m\"\u001b[39m))\n\u001b[0;32m-> 5883\u001b[0m   \u001b[38;5;28;01mraise\u001b[39;00m core\u001b[38;5;241m.\u001b[39m_status_to_exception(e) \u001b[38;5;28;01mfrom\u001b[39;00m \u001b[38;5;28;01mNone\u001b[39;00m\n",
      "\u001b[0;31mInvalidArgumentError\u001b[0m: cannot compute Mul as input #1(zero-based) was expected to be a float tensor but is a int64 tensor [Op:Mul] name: "
     ]
    }
   ],
   "source": [
    "env = ChessEnv()\n",
    "input_shape = (8, 8, 6)\n",
    "num_actions = 4096\n",
    "learning_rate = 0.001\n",
    "discount_factor = 0.99\n",
    "num_episodes = 100\n",
    "\n",
    "\n",
    "model = build_model(input_shape, num_actions=num_actions)\n",
    "\n",
    "for episode in range(num_episodes):\n",
    "    state = env.reset()\n",
    "    state = np.expand_dims(state, axis=0)\n",
    "\n",
    "    total_reward = 0\n",
    "    done = False\n",
    "    while not done: \n",
    "        legal_moves = list(env.board.legal_moves)  # Implement logic to get legal moves\n",
    "        if legal_moves:\n",
    "            action = np.random.choice(legal_moves)\n",
    "        else:\n",
    "            # Handle the case when there are no legal moves\n",
    "            action = 0  # Choose a default action or handle accordingly\n",
    "\n",
    "        next_state, reward, done, info = env.step(action)\n",
    "        next_state = np.expand_dims(next_state, axis=0)\n",
    "        flt_reward = float(reward)\n",
    "        print(flt_reward, type(flt_reward), type(discount_factor), type(reward))\n",
    "       \n",
    "        reward_tensor = tf.convert_to_tensor(flt_reward, dtype=tf.float32) \n",
    "        discount_tensor = tf.convert_to_tensor(-discount_factor, dtype=tf.float32)\n",
    "        print(type(reward_tensor), type(discount_tensor))\n",
    "        # reward_tensor = tf.cast(reward_tensor, dtype=tf.float32)\n",
    "        # discount_tensor = tf.cast(discount_tensor, dtype=tf.float32)\n",
    "\n",
    "        target = reward_tensor + discount_tensor * tf.reduce_max(next_state, axis=1)\n",
    "\n",
    "        with tf.GradientTape() as tape:\n",
    "            q_values = model(state, training=True)\n",
    "            action_mask = tf.one_hot(action, num_actions)\n",
    "            q_values = tf.reduce_sum(tf.multiply(q_values, action_mask), axis=1)\n",
    "            loss = keras.losses.mean_squared_error(target, q_values)\n",
    "        \n",
    "        gradients = tape.gradient(loss, model.trainable_variables)\n",
    "        model.optimizer.apply_gradients(zip(gradients, model.trainable_variables))\n",
    "\n",
    "        total_reward += reward"
   ]
  },
  {
   "cell_type": "code",
   "execution_count": 9,
   "id": "783d769d",
   "metadata": {},
   "outputs": [
    {
     "ename": "AttributeError",
     "evalue": "'tensorflow.python.framework.ops.EagerTensor' object has no attribute 'from_square'",
     "output_type": "error",
     "traceback": [
      "\u001b[0;31m---------------------------------------------------------------------------\u001b[0m",
      "\u001b[0;31mAttributeError\u001b[0m                            Traceback (most recent call last)",
      "Cell \u001b[0;32mIn[9], line 25\u001b[0m\n\u001b[1;32m     23\u001b[0m action \u001b[38;5;241m=\u001b[39m np\u001b[38;5;241m.\u001b[39mrandom\u001b[38;5;241m.\u001b[39mchoice(num_actions)\n\u001b[1;32m     24\u001b[0m action \u001b[38;5;241m=\u001b[39m tf\u001b[38;5;241m.\u001b[39mconvert_to_tensor(\u001b[38;5;28mfloat\u001b[39m(action), dtype\u001b[38;5;241m=\u001b[39mtf\u001b[38;5;241m.\u001b[39mfloat32)\n\u001b[0;32m---> 25\u001b[0m next_state, reward, done, info \u001b[38;5;241m=\u001b[39m \u001b[43menv\u001b[49m\u001b[38;5;241;43m.\u001b[39;49m\u001b[43mstep\u001b[49m\u001b[43m(\u001b[49m\u001b[43maction\u001b[49m\u001b[43m)\u001b[49m\n\u001b[1;32m     26\u001b[0m next_state \u001b[38;5;241m=\u001b[39m np\u001b[38;5;241m.\u001b[39mexpand_dims(next_state, axis\u001b[38;5;241m=\u001b[39m\u001b[38;5;241m0\u001b[39m)\n\u001b[1;32m     27\u001b[0m reward \u001b[38;5;241m=\u001b[39m \u001b[38;5;28mfloat\u001b[39m(reward)\n",
      "File \u001b[0;32m~/CityUSeattle/artificial_intel_for_data_sciecnce_DS510/team-project/chess_prediction_ml_ds510/chess_env.py:42\u001b[0m, in \u001b[0;36mChessEnv.step\u001b[0;34m(self, action)\u001b[0m\n\u001b[1;32m     39\u001b[0m \u001b[38;5;28;01mdef\u001b[39;00m \u001b[38;5;21mstep\u001b[39m(\u001b[38;5;28mself\u001b[39m, action):\n\u001b[1;32m     40\u001b[0m \u001b[38;5;66;03m# action is legal chess move\u001b[39;00m\n\u001b[0;32m---> 42\u001b[0m     \u001b[38;5;28;43mself\u001b[39;49m\u001b[38;5;241;43m.\u001b[39;49m\u001b[43mboard\u001b[49m\u001b[38;5;241;43m.\u001b[39;49m\u001b[43mpush\u001b[49m\u001b[43m(\u001b[49m\u001b[43maction\u001b[49m\u001b[43m)\u001b[49m\n\u001b[1;32m     43\u001b[0m     observation \u001b[38;5;241m=\u001b[39m \u001b[38;5;28mself\u001b[39m\u001b[38;5;241m.\u001b[39m_get_observation()\n\u001b[1;32m     44\u001b[0m     reward \u001b[38;5;241m=\u001b[39m \u001b[38;5;28mself\u001b[39m\u001b[38;5;241m.\u001b[39m_calculate_reward()\n",
      "File \u001b[0;32m~/CityUSeattle/artificial_intel_for_data_sciecnce_DS510/team-project/chess_prediction_ml_ds510/venv/lib/python3.10/site-packages/chess/__init__.py:1993\u001b[0m, in \u001b[0;36mBoard.push\u001b[0;34m(self, move)\u001b[0m\n\u001b[1;32m   1970\u001b[0m \u001b[38;5;250m\u001b[39m\u001b[38;5;124;03m\"\"\"\u001b[39;00m\n\u001b[1;32m   1971\u001b[0m \u001b[38;5;124;03mUpdates the position with the given *move* and puts it onto the\u001b[39;00m\n\u001b[1;32m   1972\u001b[0m \u001b[38;5;124;03mmove stack.\u001b[39;00m\n\u001b[0;32m   (...)\u001b[0m\n\u001b[1;32m   1990\u001b[0m \u001b[38;5;124;03m    a null move.\u001b[39;00m\n\u001b[1;32m   1991\u001b[0m \u001b[38;5;124;03m\"\"\"\u001b[39;00m\n\u001b[1;32m   1992\u001b[0m \u001b[38;5;66;03m# Push move and remember board state.\u001b[39;00m\n\u001b[0;32m-> 1993\u001b[0m move \u001b[38;5;241m=\u001b[39m \u001b[38;5;28;43mself\u001b[39;49m\u001b[38;5;241;43m.\u001b[39;49m\u001b[43m_to_chess960\u001b[49m\u001b[43m(\u001b[49m\u001b[43mmove\u001b[49m\u001b[43m)\u001b[49m\n\u001b[1;32m   1994\u001b[0m board_state \u001b[38;5;241m=\u001b[39m \u001b[38;5;28mself\u001b[39m\u001b[38;5;241m.\u001b[39m_board_state()\n\u001b[1;32m   1995\u001b[0m \u001b[38;5;28mself\u001b[39m\u001b[38;5;241m.\u001b[39mcastling_rights \u001b[38;5;241m=\u001b[39m \u001b[38;5;28mself\u001b[39m\u001b[38;5;241m.\u001b[39mclean_castling_rights()  \u001b[38;5;66;03m# Before pushing stack\u001b[39;00m\n",
      "File \u001b[0;32m~/CityUSeattle/artificial_intel_for_data_sciecnce_DS510/team-project/chess_prediction_ml_ds510/venv/lib/python3.10/site-packages/chess/__init__.py:3400\u001b[0m, in \u001b[0;36mBoard._to_chess960\u001b[0;34m(self, move)\u001b[0m\n\u001b[1;32m   3399\u001b[0m \u001b[38;5;28;01mdef\u001b[39;00m \u001b[38;5;21m_to_chess960\u001b[39m(\u001b[38;5;28mself\u001b[39m, move: Move) \u001b[38;5;241m-\u001b[39m\u001b[38;5;241m>\u001b[39m Move:\n\u001b[0;32m-> 3400\u001b[0m     \u001b[38;5;28;01mif\u001b[39;00m \u001b[43mmove\u001b[49m\u001b[38;5;241;43m.\u001b[39;49m\u001b[43mfrom_square\u001b[49m \u001b[38;5;241m==\u001b[39m E1 \u001b[38;5;129;01mand\u001b[39;00m \u001b[38;5;28mself\u001b[39m\u001b[38;5;241m.\u001b[39mkings \u001b[38;5;241m&\u001b[39m BB_E1:\n\u001b[1;32m   3401\u001b[0m         \u001b[38;5;28;01mif\u001b[39;00m move\u001b[38;5;241m.\u001b[39mto_square \u001b[38;5;241m==\u001b[39m G1 \u001b[38;5;129;01mand\u001b[39;00m \u001b[38;5;129;01mnot\u001b[39;00m \u001b[38;5;28mself\u001b[39m\u001b[38;5;241m.\u001b[39mrooks \u001b[38;5;241m&\u001b[39m BB_G1:\n\u001b[1;32m   3402\u001b[0m             \u001b[38;5;28;01mreturn\u001b[39;00m Move(E1, H1)\n",
      "File \u001b[0;32m~/CityUSeattle/artificial_intel_for_data_sciecnce_DS510/team-project/chess_prediction_ml_ds510/venv/lib/python3.10/site-packages/tensorflow/python/framework/tensor.py:261\u001b[0m, in \u001b[0;36mTensor.__getattr__\u001b[0;34m(self, name)\u001b[0m\n\u001b[1;32m    253\u001b[0m \u001b[38;5;28;01mif\u001b[39;00m name \u001b[38;5;129;01min\u001b[39;00m {\u001b[38;5;124m\"\u001b[39m\u001b[38;5;124mT\u001b[39m\u001b[38;5;124m\"\u001b[39m, \u001b[38;5;124m\"\u001b[39m\u001b[38;5;124mastype\u001b[39m\u001b[38;5;124m\"\u001b[39m, \u001b[38;5;124m\"\u001b[39m\u001b[38;5;124mravel\u001b[39m\u001b[38;5;124m\"\u001b[39m, \u001b[38;5;124m\"\u001b[39m\u001b[38;5;124mtranspose\u001b[39m\u001b[38;5;124m\"\u001b[39m, \u001b[38;5;124m\"\u001b[39m\u001b[38;5;124mreshape\u001b[39m\u001b[38;5;124m\"\u001b[39m, \u001b[38;5;124m\"\u001b[39m\u001b[38;5;124mclip\u001b[39m\u001b[38;5;124m\"\u001b[39m, \u001b[38;5;124m\"\u001b[39m\u001b[38;5;124msize\u001b[39m\u001b[38;5;124m\"\u001b[39m,\n\u001b[1;32m    254\u001b[0m             \u001b[38;5;124m\"\u001b[39m\u001b[38;5;124mtolist\u001b[39m\u001b[38;5;124m\"\u001b[39m, \u001b[38;5;124m\"\u001b[39m\u001b[38;5;124mdata\u001b[39m\u001b[38;5;124m\"\u001b[39m}:\n\u001b[1;32m    255\u001b[0m   \u001b[38;5;66;03m# TODO(wangpeng): Export the enable_numpy_behavior knob\u001b[39;00m\n\u001b[1;32m    256\u001b[0m   \u001b[38;5;28;01mraise\u001b[39;00m \u001b[38;5;167;01mAttributeError\u001b[39;00m(\n\u001b[1;32m    257\u001b[0m       \u001b[38;5;124mf\u001b[39m\u001b[38;5;124m\"\u001b[39m\u001b[38;5;132;01m{\u001b[39;00m\u001b[38;5;28mtype\u001b[39m(\u001b[38;5;28mself\u001b[39m)\u001b[38;5;241m.\u001b[39m\u001b[38;5;18m__name__\u001b[39m\u001b[38;5;132;01m}\u001b[39;00m\u001b[38;5;124m object has no attribute \u001b[39m\u001b[38;5;124m'\u001b[39m\u001b[38;5;132;01m{\u001b[39;00mname\u001b[38;5;132;01m}\u001b[39;00m\u001b[38;5;124m'\u001b[39m\u001b[38;5;124m. \u001b[39m\u001b[38;5;124m\"\u001b[39m \u001b[38;5;241m+\u001b[39m \u001b[38;5;124m\"\"\"\u001b[39m\n\u001b[1;32m    258\u001b[0m \u001b[38;5;124m    If you are looking for numpy-related methods, please run the following:\u001b[39m\n\u001b[1;32m    259\u001b[0m \u001b[38;5;124m    tf.experimental.numpy.experimental_enable_numpy_behavior()\u001b[39m\n\u001b[1;32m    260\u001b[0m \u001b[38;5;124m  \u001b[39m\u001b[38;5;124m\"\"\"\u001b[39m)\n\u001b[0;32m--> 261\u001b[0m \u001b[38;5;28;43mself\u001b[39;49m\u001b[38;5;241;43m.\u001b[39;49m\u001b[38;5;21;43m__getattribute__\u001b[39;49m\u001b[43m(\u001b[49m\u001b[43mname\u001b[49m\u001b[43m)\u001b[49m\n",
      "\u001b[0;31mAttributeError\u001b[0m: 'tensorflow.python.framework.ops.EagerTensor' object has no attribute 'from_square'"
     ]
    }
   ],
   "source": [
    "input_shape = (8, 8, 6)\n",
    "num_actions = 4096\n",
    "learning_rate = 0.001\n",
    "discount_factor = 0.99\n",
    "\n",
    "#create DNQ model\n",
    "model = build_model(input_shape, num_actions)\n",
    "model.compile(\n",
    "    optimizer=keras.optimizers.Adam(learning_rate),\n",
    "    loss='mean_squared_error'\n",
    ")\n",
    "env = ChessEnv()\n",
    "num_episodes = 100\n",
    "\n",
    "for episode in range(num_episodes):\n",
    "    state = env.reset()\n",
    "    state = np.expand_dims(state, axis=0)\n",
    "\n",
    "    total_reward = 0\n",
    "    done = False\n",
    "    while not done: \n",
    "        # select actioi unsit epsilon-greedy policy\n",
    "        action = np.random.choice(num_actions)\n",
    "        action = tf.convert_to_tensor(float(action), dtype=tf.float32)\n",
    "        next_state, reward, done, info = env.step(action)\n",
    "        next_state = np.expand_dims(next_state, axis=0)\n",
    "        reward = float(reward)\n",
    "        reward_tensor = tf.convert_to_tensor(reward, dtype=tf.float32) \n",
    "        discount_tensor =- tf.convert_to_tensor(-discount_factor, dtype=tf.float32)\n",
    "\n",
    "        target = reward_tensor + discount_tensor * tf.reduce_max(next_state, axis=1)\n",
    "\n",
    "        with tf.GradientTape() as tape:\n",
    "            q_values = model(state, training=True)\n",
    "            action_mask = tf.one_hot(action, num_actions)\n",
    "            q_values = tf.reduce_sum(tf.multiply(q_values, action_mask), axis=1)\n",
    "            loss = keras.losses.mean_squared_error(target, q_values)\n",
    "        \n",
    "        gradients = tape.gradient(loss, model.trainable_variables)\n",
    "        model.optimizer.apply_gradients(zip(gradients, model.trainable_variables))\n",
    "\n",
    "        total_reward += reward\n",
    "        state = next_state\n",
    "    print(f'Episode: {episode}, total_reward: {total_reward}')\n",
    "\n"
   ]
  },
  {
   "cell_type": "code",
   "execution_count": null,
   "id": "05153266",
   "metadata": {},
   "outputs": [],
   "source": []
  },
  {
   "cell_type": "code",
   "execution_count": null,
   "id": "034b3599",
   "metadata": {},
   "outputs": [],
   "source": [
    "model.save('model.h5')"
   ]
  }
 ],
 "metadata": {
  "kernelspec": {
   "display_name": "Python 3",
   "language": "python",
   "name": "python3"
  },
  "language_info": {
   "codemirror_mode": {
    "name": "ipython",
    "version": 3
   },
   "file_extension": ".py",
   "mimetype": "text/x-python",
   "name": "python",
   "nbconvert_exporter": "python",
   "pygments_lexer": "ipython3",
   "version": "3.10.12"
  }
 },
 "nbformat": 4,
 "nbformat_minor": 5
}
