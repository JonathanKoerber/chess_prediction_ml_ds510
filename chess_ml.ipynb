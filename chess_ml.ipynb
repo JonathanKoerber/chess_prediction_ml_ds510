{
 "cells": [
  {
   "cell_type": "markdown",
   "metadata": {},
   "source": []
  },
  {
   "cell_type": "code",
   "execution_count": 1,
   "metadata": {},
   "outputs": [
    {
     "name": "stderr",
     "output_type": "stream",
     "text": [
      "2024-02-07 15:24:54.088893: I external/local_tsl/tsl/cuda/cudart_stub.cc:31] Could not find cuda drivers on your machine, GPU will not be used.\n",
      "2024-02-07 15:24:54.135450: E external/local_xla/xla/stream_executor/cuda/cuda_dnn.cc:9261] Unable to register cuDNN factory: Attempting to register factory for plugin cuDNN when one has already been registered\n",
      "2024-02-07 15:24:54.135486: E external/local_xla/xla/stream_executor/cuda/cuda_fft.cc:607] Unable to register cuFFT factory: Attempting to register factory for plugin cuFFT when one has already been registered\n",
      "2024-02-07 15:24:54.136989: E external/local_xla/xla/stream_executor/cuda/cuda_blas.cc:1515] Unable to register cuBLAS factory: Attempting to register factory for plugin cuBLAS when one has already been registered\n",
      "2024-02-07 15:24:54.143858: I external/local_tsl/tsl/cuda/cudart_stub.cc:31] Could not find cuda drivers on your machine, GPU will not be used.\n",
      "2024-02-07 15:24:54.144343: I tensorflow/core/platform/cpu_feature_guard.cc:182] This TensorFlow binary is optimized to use available CPU instructions in performance-critical operations.\n",
      "To enable the following instructions: AVX2 FMA, in other operations, rebuild TensorFlow with the appropriate compiler flags.\n",
      "2024-02-07 15:24:55.277596: W tensorflow/compiler/tf2tensorrt/utils/py_utils.cc:38] TF-TRT Warning: Could not find TensorRT\n"
     ]
    }
   ],
   "source": [
    "import tensorflow as tf\n",
    "import tensorflow.keras.models as models\n",
    "import tensorflow.keras.layers as layers\n",
    "import tensorflow.keras.utils as utils\n",
    "import tensorflow.keras.optimizers as optimizers\n",
    "\n",
    "\n",
    "def build_model(conv_size, conv_depth):\n",
    "    board3d = layers.Input(shape=(14, 8, 8))\n",
    "    x = board3d\n",
    "    for _ in range(conv_depth):\n",
    "        x = layers.Conv2D(filters=conv_size, kernel_size=3, padding='same', activation='relu')(x)\n",
    "    x = layers.Flatten()(x)\n",
    "    x = layers.Dense(64, 'relu')(x)\n",
    "    x = layers.Dense(1, 'sigmoid')(x)\n",
    "\n",
    "    return models.Model(inputs=board3d, outputs=x)"
   ]
  },
  {
   "cell_type": "code",
   "execution_count": 2,
   "metadata": {},
   "outputs": [],
   "source": [
    "def build_model_residual(conv_size, conv_depth):\n",
    "    board3d = layers.Input(shape=(14, 8, 8))\n",
    "    x = layers.Conv2D(filters=conv_size, kernel_size=3, padding='same', activation='relu')(board3d)\n",
    "    for _ in range(conv_depth):\n",
    "        previous = x\n",
    "        x = layers.Conv2D(filters=conv_size, kernel_size=3, padding='same')(x)\n",
    "        x = layers.BatchNormalization()(x)\n",
    "        x = layers.Activation('relu')(x)\n",
    "        x = layers.Conv2D(filters=conv_size, kernel_size=3, padding='same')(x)\n",
    "        x = layers.BatchNormalization()(x)\n",
    "        x = layers.Add()([x, previous])\n",
    "        x = layers.Activation('relu')(x)\n",
    "    x = layers.Flatten()(x)\n",
    "    x = layers.Dense(1, 'sigmoid')(x)\n",
    "\n",
    "    return models.Model(inputs=board3d, outputs=x) "
   ]
  },
  {
   "cell_type": "code",
   "execution_count": null,
   "metadata": {},
   "outputs": [],
   "source": [
    "from IPython.display import SVG, display\n",
    "import chess\n",
    "import chess.svg\n",
    "from chess_env import ChessEnv\n",
    "import numpy as np\n",
    "from tensorflow import keras\n",
    "from chess_env import ChessEnv\n",
    "\n",
    "def choose_move(model, state):\n",
    "        q_values= model.predict(state, axis=0)\n",
    "        move = np.argmax(q_values)\n",
    "        return move\n",
    "\n",
    "game = ChessEnv()\n",
    "state = game.reset()\n",
    "model = keras.models.load_model('dqn_chess.h5')\n",
    "display(SVG(chess.svg.board(board=game.board)))\n",
    "while not game._is_game_over():\n",
    "    action = game.next_action(state=state)\n",
    "    game.step(action)\n",
    "    next_state, reward, done, info = game.step(action)\n",
    "    display(SVG(chess.svg.board(board=game.board)))\n",
    "    print(\"Chosen move:\", list(game.board.legal_moves)[action])\n",
    "    state = next_state\n",
    "    print(\"Legal moves:\", game.board.legal_moves)\n",
    "display(SVG(chess.svg.board(board=game.board)))\n",
    "print(\"Game over\")"
   ]
  },
  {
   "cell_type": "code",
   "execution_count": 12,
   "metadata": {},
   "outputs": [
    {
     "name": "stdout",
     "output_type": "stream",
     "text": [
      "[Board('2bqkQnr/rp3p1p/2p4P/p3n1p1/6P1/5P2/PP1PP3/RNBQKBNR b KQk - 0 11')]\n"
     ]
    }
   ],
   "source": [
    "s = game.board.board_fen()\n",
    "print([game.board])"
   ]
  }
 ],
 "metadata": {
  "kernelspec": {
   "display_name": "venv",
   "language": "python",
   "name": "python3"
  },
  "language_info": {
   "codemirror_mode": {
    "name": "ipython",
    "version": 3
   },
   "file_extension": ".py",
   "mimetype": "text/x-python",
   "name": "python",
   "nbconvert_exporter": "python",
   "pygments_lexer": "ipython3",
   "version": "3.10.12"
  }
 },
 "nbformat": 4,
 "nbformat_minor": 2
}
