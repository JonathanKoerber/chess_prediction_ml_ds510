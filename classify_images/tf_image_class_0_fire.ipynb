{
 "cells": [
  {
   "cell_type": "code",
   "execution_count": 10,
   "metadata": {},
   "outputs": [],
   "source": [
    "from io import BytesIO\n",
    "import chess\n",
    "import chess.svg\n",
    "import cairosvg\n",
    "from PIL import Image, ImageDraw\n",
    "import pandas as pd\n"
   ]
  },
  {
   "cell_type": "code",
   "execution_count": 11,
   "metadata": {},
   "outputs": [
    {
     "data": {
      "text/html": [
       "<div>\n",
       "<style scoped>\n",
       "    .dataframe tbody tr th:only-of-type {\n",
       "        vertical-align: middle;\n",
       "    }\n",
       "\n",
       "    .dataframe tbody tr th {\n",
       "        vertical-align: top;\n",
       "    }\n",
       "\n",
       "    .dataframe thead th {\n",
       "        text-align: right;\n",
       "    }\n",
       "</style>\n",
       "<table border=\"1\" class=\"dataframe\">\n",
       "  <thead>\n",
       "    <tr style=\"text-align: right;\">\n",
       "      <th></th>\n",
       "      <th>Board_FEN</th>\n",
       "      <th>Best_Move</th>\n",
       "    </tr>\n",
       "  </thead>\n",
       "  <tbody>\n",
       "    <tr>\n",
       "      <th>0</th>\n",
       "      <td>rnbqkbnr/pppppppp/8/8/8/8/PPPPPPPP/RNBQKBNR w...</td>\n",
       "      <td>a2a3</td>\n",
       "    </tr>\n",
       "    <tr>\n",
       "      <th>1</th>\n",
       "      <td>rnbqkbnr/pppppppp/8/8/8/P7/1PPPPPPP/RNBQKBNR b...</td>\n",
       "      <td>g8f6</td>\n",
       "    </tr>\n",
       "    <tr>\n",
       "      <th>2</th>\n",
       "      <td>rnbqkb1r/pppppppp/5n2/8/8/P7/1PPPPPPP/RNBQKBNR...</td>\n",
       "      <td>d2d4</td>\n",
       "    </tr>\n",
       "    <tr>\n",
       "      <th>3</th>\n",
       "      <td>rnbqkb1r/pppppppp/5n2/8/3P4/P7/1PP1PPPP/RNBQKB...</td>\n",
       "      <td>g7g6</td>\n",
       "    </tr>\n",
       "    <tr>\n",
       "      <th>4</th>\n",
       "      <td>rnbqkb1r/pppppp1p/5np1/8/3P4/P7/1PP1PPPP/RNBQK...</td>\n",
       "      <td>b1c3</td>\n",
       "    </tr>\n",
       "  </tbody>\n",
       "</table>\n",
       "</div>"
      ],
      "text/plain": [
       "                                           Board_FEN  Best_Move\n",
       "0   rnbqkbnr/pppppppp/8/8/8/8/PPPPPPPP/RNBQKBNR w...       a2a3\n",
       "1  rnbqkbnr/pppppppp/8/8/8/P7/1PPPPPPP/RNBQKBNR b...       g8f6\n",
       "2  rnbqkb1r/pppppppp/5n2/8/8/P7/1PPPPPPP/RNBQKBNR...       d2d4\n",
       "3  rnbqkb1r/pppppppp/5n2/8/3P4/P7/1PP1PPPP/RNBQKB...       g7g6\n",
       "4  rnbqkb1r/pppppp1p/5np1/8/3P4/P7/1PP1PPPP/RNBQK...       b1c3"
      ]
     },
     "execution_count": 11,
     "metadata": {},
     "output_type": "execute_result"
    }
   ],
   "source": [
    "data = pd.read_csv(\"100_fen.csv\")\n",
    "data.head()"
   ]
  },
  {
   "cell_type": "code",
   "execution_count": 12,
   "metadata": {},
   "outputs": [
    {
     "name": "stdout",
     "output_type": "stream",
     "text": [
      "Board_FEN      rnbqkbnr/pppppppp/8/8/8/8/PPPPPPPP/RNBQKBNR w...\n",
      " Best_Move                                                 a2a3\n",
      "Name: 0, dtype: object\n",
      "Board_FEN     rnbqkbnr/pppppppp/8/8/8/P7/1PPPPPPP/RNBQKBNR b...\n",
      " Best_Move                                                 g8f6\n",
      "Name: 1, dtype: object\n"
     ]
    },
    {
     "name": "stderr",
     "output_type": "stream",
     "text": [
      "/tmp/ipykernel_1607089/2717491704.py:10: FutureWarning: Series.__getitem__ treating keys as positions is deprecated. In a future version, integer keys will always be treated as labels (consistent with DataFrame behavior). To access a value by position, use `ser.iloc[pos]`\n",
      "  fen = row[0]\n",
      "/tmp/ipykernel_1607089/2717491704.py:11: FutureWarning: Series.__getitem__ treating keys as positions is deprecated. In a future version, integer keys will always be treated as labels (consistent with DataFrame behavior). To access a value by position, use `ser.iloc[pos]`\n",
      "  best_move = row[1]\n",
      "/tmp/ipykernel_1607089/2717491704.py:10: FutureWarning: Series.__getitem__ treating keys as positions is deprecated. In a future version, integer keys will always be treated as labels (consistent with DataFrame behavior). To access a value by position, use `ser.iloc[pos]`\n",
      "  fen = row[0]\n",
      "/tmp/ipykernel_1607089/2717491704.py:11: FutureWarning: Series.__getitem__ treating keys as positions is deprecated. In a future version, integer keys will always be treated as labels (consistent with DataFrame behavior). To access a value by position, use `ser.iloc[pos]`\n",
      "  best_move = row[1]\n"
     ]
    },
    {
     "name": "stdout",
     "output_type": "stream",
     "text": [
      "Board_FEN     rnbqkb1r/pppppppp/5n2/8/8/P7/1PPPPPPP/RNBQKBNR...\n",
      " Best_Move                                                 d2d4\n",
      "Name: 2, dtype: object\n",
      "Board_FEN     rnbqkb1r/pppppppp/5n2/8/3P4/P7/1PP1PPPP/RNBQKB...\n",
      " Best_Move                                                 g7g6\n",
      "Name: 3, dtype: object\n",
      "Board_FEN     rnbqkb1r/pppppp1p/5np1/8/3P4/P7/1PP1PPPP/RNBQK...\n",
      " Best_Move                                                 b1c3\n",
      "Name: 4, dtype: object\n"
     ]
    },
    {
     "name": "stderr",
     "output_type": "stream",
     "text": [
      "/tmp/ipykernel_1607089/2717491704.py:10: FutureWarning: Series.__getitem__ treating keys as positions is deprecated. In a future version, integer keys will always be treated as labels (consistent with DataFrame behavior). To access a value by position, use `ser.iloc[pos]`\n",
      "  fen = row[0]\n",
      "/tmp/ipykernel_1607089/2717491704.py:11: FutureWarning: Series.__getitem__ treating keys as positions is deprecated. In a future version, integer keys will always be treated as labels (consistent with DataFrame behavior). To access a value by position, use `ser.iloc[pos]`\n",
      "  best_move = row[1]\n",
      "/tmp/ipykernel_1607089/2717491704.py:10: FutureWarning: Series.__getitem__ treating keys as positions is deprecated. In a future version, integer keys will always be treated as labels (consistent with DataFrame behavior). To access a value by position, use `ser.iloc[pos]`\n",
      "  fen = row[0]\n",
      "/tmp/ipykernel_1607089/2717491704.py:11: FutureWarning: Series.__getitem__ treating keys as positions is deprecated. In a future version, integer keys will always be treated as labels (consistent with DataFrame behavior). To access a value by position, use `ser.iloc[pos]`\n",
      "  best_move = row[1]\n",
      "/tmp/ipykernel_1607089/2717491704.py:10: FutureWarning: Series.__getitem__ treating keys as positions is deprecated. In a future version, integer keys will always be treated as labels (consistent with DataFrame behavior). To access a value by position, use `ser.iloc[pos]`\n",
      "  fen = row[0]\n",
      "/tmp/ipykernel_1607089/2717491704.py:11: FutureWarning: Series.__getitem__ treating keys as positions is deprecated. In a future version, integer keys will always be treated as labels (consistent with DataFrame behavior). To access a value by position, use `ser.iloc[pos]`\n",
      "  best_move = row[1]\n",
      "\n",
      "(eog:1615654): EOG-CRITICAL **: 14:04:50.072: eog_image_get_file: assertion 'EOG_IS_IMAGE (img)' failed\n",
      "\n",
      "(eog:1615654): GLib-GIO-CRITICAL **: 14:04:50.073: g_file_equal: assertion 'G_IS_FILE (file1)' failed\n",
      "\n",
      "(eog:1615654): EOG-CRITICAL **: 14:04:50.073: eog_image_get_file: assertion 'EOG_IS_IMAGE (img)' failed\n",
      "\n",
      "(eog:1615654): GLib-GIO-CRITICAL **: 14:04:50.073: g_file_equal: assertion 'G_IS_FILE (file1)' failed\n",
      "/tmp/ipykernel_1607089/2717491704.py:10: FutureWarning: Series.__getitem__ treating keys as positions is deprecated. In a future version, integer keys will always be treated as labels (consistent with DataFrame behavior). To access a value by position, use `ser.iloc[pos]`\n",
      "  fen = row[0]\n",
      "/tmp/ipykernel_1607089/2717491704.py:11: FutureWarning: Series.__getitem__ treating keys as positions is deprecated. In a future version, integer keys will always be treated as labels (consistent with DataFrame behavior). To access a value by position, use `ser.iloc[pos]`\n",
      "  best_move = row[1]\n",
      "\n",
      "(eog:1615654): EOG-CRITICAL **: 14:04:50.185: eog_image_get_file: assertion 'EOG_IS_IMAGE (img)' failed\n",
      "\n",
      "(eog:1615654): GLib-GIO-CRITICAL **: 14:04:50.185: g_file_equal: assertion 'G_IS_FILE (file1)' failed\n",
      "/tmp/ipykernel_1607089/2717491704.py:10: FutureWarning: Series.__getitem__ treating keys as positions is deprecated. In a future version, integer keys will always be treated as labels (consistent with DataFrame behavior). To access a value by position, use `ser.iloc[pos]`\n",
      "  fen = row[0]\n",
      "/tmp/ipykernel_1607089/2717491704.py:11: FutureWarning: Series.__getitem__ treating keys as positions is deprecated. In a future version, integer keys will always be treated as labels (consistent with DataFrame behavior). To access a value by position, use `ser.iloc[pos]`\n",
      "  best_move = row[1]\n"
     ]
    },
    {
     "name": "stdout",
     "output_type": "stream",
     "text": [
      "Board_FEN     rnbqkb1r/pppppp1p/5np1/8/3P4/P1N5/1PP1PPPP/R1B...\n",
      " Best_Move                                                 d7d5\n",
      "Name: 5, dtype: object\n",
      "Board_FEN     rnbqkb1r/ppp1pp1p/5np1/3p4/3P4/P1N5/1PP1PPPP/R...\n",
      " Best_Move                                                 h2h3\n",
      "Name: 6, dtype: object\n"
     ]
    },
    {
     "name": "stderr",
     "output_type": "stream",
     "text": [
      "\n",
      "(eog:1615654): EOG-CRITICAL **: 14:04:50.341: eog_image_get_file: assertion 'EOG_IS_IMAGE (img)' failed\n",
      "\n",
      "(eog:1615654): GLib-GIO-CRITICAL **: 14:04:50.341: g_file_equal: assertion 'G_IS_FILE (file1)' failed\n",
      "/tmp/ipykernel_1607089/2717491704.py:10: FutureWarning: Series.__getitem__ treating keys as positions is deprecated. In a future version, integer keys will always be treated as labels (consistent with DataFrame behavior). To access a value by position, use `ser.iloc[pos]`\n",
      "  fen = row[0]\n",
      "/tmp/ipykernel_1607089/2717491704.py:11: FutureWarning: Series.__getitem__ treating keys as positions is deprecated. In a future version, integer keys will always be treated as labels (consistent with DataFrame behavior). To access a value by position, use `ser.iloc[pos]`\n",
      "  best_move = row[1]\n",
      "\n",
      "(eog:1615654): EOG-CRITICAL **: 14:04:50.475: eog_image_get_file: assertion 'EOG_IS_IMAGE (img)' failed\n",
      "\n",
      "(eog:1615654): GLib-GIO-CRITICAL **: 14:04:50.475: g_file_equal: assertion 'G_IS_FILE (file1)' failed\n",
      "/tmp/ipykernel_1607089/2717491704.py:10: FutureWarning: Series.__getitem__ treating keys as positions is deprecated. In a future version, integer keys will always be treated as labels (consistent with DataFrame behavior). To access a value by position, use `ser.iloc[pos]`\n",
      "  fen = row[0]\n",
      "/tmp/ipykernel_1607089/2717491704.py:11: FutureWarning: Series.__getitem__ treating keys as positions is deprecated. In a future version, integer keys will always be treated as labels (consistent with DataFrame behavior). To access a value by position, use `ser.iloc[pos]`\n",
      "  best_move = row[1]\n"
     ]
    },
    {
     "name": "stdout",
     "output_type": "stream",
     "text": [
      "Board_FEN     rnbqkb1r/ppp1pp1p/5np1/3p4/3P4/P1N4P/1PP1PPP1/...\n",
      " Best_Move                                                 c7c6\n",
      "Name: 7, dtype: object\n",
      "Board_FEN     rnbqkb1r/pp2pp1p/2p2np1/3p4/3P4/P1N4P/1PP1PPP1...\n",
      " Best_Move                                                 g2g3\n",
      "Name: 8, dtype: object\n",
      "Board_FEN     rnbqkb1r/pp2pp1p/2p2np1/3p4/3P4/P1N3PP/1PP1PP2...\n",
      " Best_Move                                                 f8g7\n",
      "Name: 9, dtype: object\n",
      "Board_FEN     rnbqk2r/pp2ppbp/2p2np1/3p4/3P4/P1N3PP/1PP1PP2/...\n",
      " Best_Move                                                 g1f3\n",
      "Name: 10, dtype: object\n"
     ]
    },
    {
     "name": "stderr",
     "output_type": "stream",
     "text": [
      "/tmp/ipykernel_1607089/2717491704.py:10: FutureWarning: Series.__getitem__ treating keys as positions is deprecated. In a future version, integer keys will always be treated as labels (consistent with DataFrame behavior). To access a value by position, use `ser.iloc[pos]`\n",
      "  fen = row[0]\n",
      "/tmp/ipykernel_1607089/2717491704.py:11: FutureWarning: Series.__getitem__ treating keys as positions is deprecated. In a future version, integer keys will always be treated as labels (consistent with DataFrame behavior). To access a value by position, use `ser.iloc[pos]`\n",
      "  best_move = row[1]\n",
      "/tmp/ipykernel_1607089/2717491704.py:10: FutureWarning: Series.__getitem__ treating keys as positions is deprecated. In a future version, integer keys will always be treated as labels (consistent with DataFrame behavior). To access a value by position, use `ser.iloc[pos]`\n",
      "  fen = row[0]\n",
      "/tmp/ipykernel_1607089/2717491704.py:11: FutureWarning: Series.__getitem__ treating keys as positions is deprecated. In a future version, integer keys will always be treated as labels (consistent with DataFrame behavior). To access a value by position, use `ser.iloc[pos]`\n",
      "  best_move = row[1]\n"
     ]
    },
    {
     "name": "stdout",
     "output_type": "stream",
     "text": [
      "Board_FEN     rnbqk2r/pp2ppbp/2p2np1/3p4/3P4/P1N2NPP/1PP1PP2...\n",
      " Best_Move                                                 f6e4\n",
      "Name: 11, dtype: object\n",
      "Board_FEN     rnbqk2r/pp2ppbp/2p3p1/3p4/3Pn3/P1N2NPP/1PP1PP2...\n",
      " Best_Move                                                 c3e4\n",
      "Name: 12, dtype: object\n"
     ]
    },
    {
     "name": "stderr",
     "output_type": "stream",
     "text": [
      "/tmp/ipykernel_1607089/2717491704.py:10: FutureWarning: Series.__getitem__ treating keys as positions is deprecated. In a future version, integer keys will always be treated as labels (consistent with DataFrame behavior). To access a value by position, use `ser.iloc[pos]`\n",
      "  fen = row[0]\n",
      "/tmp/ipykernel_1607089/2717491704.py:11: FutureWarning: Series.__getitem__ treating keys as positions is deprecated. In a future version, integer keys will always be treated as labels (consistent with DataFrame behavior). To access a value by position, use `ser.iloc[pos]`\n",
      "  best_move = row[1]\n",
      "/tmp/ipykernel_1607089/2717491704.py:10: FutureWarning: Series.__getitem__ treating keys as positions is deprecated. In a future version, integer keys will always be treated as labels (consistent with DataFrame behavior). To access a value by position, use `ser.iloc[pos]`\n",
      "  fen = row[0]\n",
      "/tmp/ipykernel_1607089/2717491704.py:11: FutureWarning: Series.__getitem__ treating keys as positions is deprecated. In a future version, integer keys will always be treated as labels (consistent with DataFrame behavior). To access a value by position, use `ser.iloc[pos]`\n",
      "  best_move = row[1]\n"
     ]
    },
    {
     "name": "stdout",
     "output_type": "stream",
     "text": [
      "Board_FEN     rnbqk2r/pp2ppbp/2p3p1/3p4/3PN3/P4NPP/1PP1PP2/R...\n",
      " Best_Move                                                 d5e4\n",
      "Name: 13, dtype: object\n",
      "Board_FEN     rnbqk2r/pp2ppbp/2p3p1/8/3Pp3/P4NPP/1PP1PP2/R1B...\n",
      " Best_Move                                                 f3e5\n",
      "Name: 14, dtype: object\n"
     ]
    },
    {
     "name": "stderr",
     "output_type": "stream",
     "text": [
      "/tmp/ipykernel_1607089/2717491704.py:10: FutureWarning: Series.__getitem__ treating keys as positions is deprecated. In a future version, integer keys will always be treated as labels (consistent with DataFrame behavior). To access a value by position, use `ser.iloc[pos]`\n",
      "  fen = row[0]\n",
      "/tmp/ipykernel_1607089/2717491704.py:11: FutureWarning: Series.__getitem__ treating keys as positions is deprecated. In a future version, integer keys will always be treated as labels (consistent with DataFrame behavior). To access a value by position, use `ser.iloc[pos]`\n",
      "  best_move = row[1]\n",
      "/tmp/ipykernel_1607089/2717491704.py:10: FutureWarning: Series.__getitem__ treating keys as positions is deprecated. In a future version, integer keys will always be treated as labels (consistent with DataFrame behavior). To access a value by position, use `ser.iloc[pos]`\n",
      "  fen = row[0]\n",
      "/tmp/ipykernel_1607089/2717491704.py:11: FutureWarning: Series.__getitem__ treating keys as positions is deprecated. In a future version, integer keys will always be treated as labels (consistent with DataFrame behavior). To access a value by position, use `ser.iloc[pos]`\n",
      "  best_move = row[1]\n"
     ]
    },
    {
     "name": "stdout",
     "output_type": "stream",
     "text": [
      "Board_FEN     rnbqk2r/pp2ppbp/2p3p1/4N3/3Pp3/P5PP/1PP1PP2/R1...\n",
      " Best_Move                                                 c6c5\n",
      "Name: 15, dtype: object\n",
      "Board_FEN     rnbqk2r/pp2ppbp/6p1/2p1N3/3Pp3/P5PP/1PP1PP2/R1...\n",
      " Best_Move                                                 c2c3\n",
      "Name: 16, dtype: object\n"
     ]
    },
    {
     "name": "stderr",
     "output_type": "stream",
     "text": [
      "/tmp/ipykernel_1607089/2717491704.py:10: FutureWarning: Series.__getitem__ treating keys as positions is deprecated. In a future version, integer keys will always be treated as labels (consistent with DataFrame behavior). To access a value by position, use `ser.iloc[pos]`\n",
      "  fen = row[0]\n",
      "/tmp/ipykernel_1607089/2717491704.py:11: FutureWarning: Series.__getitem__ treating keys as positions is deprecated. In a future version, integer keys will always be treated as labels (consistent with DataFrame behavior). To access a value by position, use `ser.iloc[pos]`\n",
      "  best_move = row[1]\n",
      "/tmp/ipykernel_1607089/2717491704.py:10: FutureWarning: Series.__getitem__ treating keys as positions is deprecated. In a future version, integer keys will always be treated as labels (consistent with DataFrame behavior). To access a value by position, use `ser.iloc[pos]`\n",
      "  fen = row[0]\n",
      "/tmp/ipykernel_1607089/2717491704.py:11: FutureWarning: Series.__getitem__ treating keys as positions is deprecated. In a future version, integer keys will always be treated as labels (consistent with DataFrame behavior). To access a value by position, use `ser.iloc[pos]`\n",
      "  best_move = row[1]\n"
     ]
    },
    {
     "name": "stdout",
     "output_type": "stream",
     "text": [
      "Board_FEN     rnbqk2r/pp2ppbp/6p1/2p1N3/3Pp3/P1P3PP/1P2PP2/R...\n",
      " Best_Move                                                 f7f6\n",
      "Name: 17, dtype: object\n",
      "Board_FEN     rnbqk2r/pp2p1bp/5pp1/2p1N3/3Pp3/P1P3PP/1P2PP2/...\n",
      " Best_Move                                                 e5c4\n",
      "Name: 18, dtype: object\n"
     ]
    },
    {
     "name": "stderr",
     "output_type": "stream",
     "text": [
      "/tmp/ipykernel_1607089/2717491704.py:10: FutureWarning: Series.__getitem__ treating keys as positions is deprecated. In a future version, integer keys will always be treated as labels (consistent with DataFrame behavior). To access a value by position, use `ser.iloc[pos]`\n",
      "  fen = row[0]\n",
      "/tmp/ipykernel_1607089/2717491704.py:11: FutureWarning: Series.__getitem__ treating keys as positions is deprecated. In a future version, integer keys will always be treated as labels (consistent with DataFrame behavior). To access a value by position, use `ser.iloc[pos]`\n",
      "  best_move = row[1]\n",
      "/tmp/ipykernel_1607089/2717491704.py:10: FutureWarning: Series.__getitem__ treating keys as positions is deprecated. In a future version, integer keys will always be treated as labels (consistent with DataFrame behavior). To access a value by position, use `ser.iloc[pos]`\n",
      "  fen = row[0]\n",
      "/tmp/ipykernel_1607089/2717491704.py:11: FutureWarning: Series.__getitem__ treating keys as positions is deprecated. In a future version, integer keys will always be treated as labels (consistent with DataFrame behavior). To access a value by position, use `ser.iloc[pos]`\n",
      "  best_move = row[1]\n"
     ]
    },
    {
     "name": "stdout",
     "output_type": "stream",
     "text": [
      "Board_FEN     rnbqk2r/pp2p1bp/5pp1/2p5/2NPp3/P1P3PP/1P2PP2/R...\n",
      " Best_Move                                                 c8e6\n",
      "Name: 19, dtype: object\n",
      "Board_FEN     rn1qk2r/pp2p1bp/4bpp1/2p5/2NPp3/P1P3PP/1P2PP2/...\n",
      " Best_Move                                                 e2e3\n",
      "Name: 20, dtype: object\n"
     ]
    },
    {
     "name": "stderr",
     "output_type": "stream",
     "text": [
      "/tmp/ipykernel_1607089/2717491704.py:10: FutureWarning: Series.__getitem__ treating keys as positions is deprecated. In a future version, integer keys will always be treated as labels (consistent with DataFrame behavior). To access a value by position, use `ser.iloc[pos]`\n",
      "  fen = row[0]\n",
      "/tmp/ipykernel_1607089/2717491704.py:11: FutureWarning: Series.__getitem__ treating keys as positions is deprecated. In a future version, integer keys will always be treated as labels (consistent with DataFrame behavior). To access a value by position, use `ser.iloc[pos]`\n",
      "  best_move = row[1]\n",
      "/tmp/ipykernel_1607089/2717491704.py:10: FutureWarning: Series.__getitem__ treating keys as positions is deprecated. In a future version, integer keys will always be treated as labels (consistent with DataFrame behavior). To access a value by position, use `ser.iloc[pos]`\n",
      "  fen = row[0]\n",
      "/tmp/ipykernel_1607089/2717491704.py:11: FutureWarning: Series.__getitem__ treating keys as positions is deprecated. In a future version, integer keys will always be treated as labels (consistent with DataFrame behavior). To access a value by position, use `ser.iloc[pos]`\n",
      "  best_move = row[1]\n"
     ]
    },
    {
     "name": "stdout",
     "output_type": "stream",
     "text": [
      "Board_FEN     rn1qk2r/pp2p1bp/4bpp1/2p5/2NPp3/P1P1P1PP/1P3P2...\n",
      " Best_Move                                                 b7b5\n",
      "Name: 21, dtype: object\n",
      "Board_FEN     rn1qk2r/p3p1bp/4bpp1/1pp5/2NPp3/P1P1P1PP/1P3P2...\n",
      " Best_Move                                                 c4d2\n",
      "Name: 22, dtype: object\n"
     ]
    },
    {
     "name": "stderr",
     "output_type": "stream",
     "text": [
      "/tmp/ipykernel_1607089/2717491704.py:10: FutureWarning: Series.__getitem__ treating keys as positions is deprecated. In a future version, integer keys will always be treated as labels (consistent with DataFrame behavior). To access a value by position, use `ser.iloc[pos]`\n",
      "  fen = row[0]\n",
      "/tmp/ipykernel_1607089/2717491704.py:11: FutureWarning: Series.__getitem__ treating keys as positions is deprecated. In a future version, integer keys will always be treated as labels (consistent with DataFrame behavior). To access a value by position, use `ser.iloc[pos]`\n",
      "  best_move = row[1]\n",
      "/tmp/ipykernel_1607089/2717491704.py:10: FutureWarning: Series.__getitem__ treating keys as positions is deprecated. In a future version, integer keys will always be treated as labels (consistent with DataFrame behavior). To access a value by position, use `ser.iloc[pos]`\n",
      "  fen = row[0]\n",
      "/tmp/ipykernel_1607089/2717491704.py:11: FutureWarning: Series.__getitem__ treating keys as positions is deprecated. In a future version, integer keys will always be treated as labels (consistent with DataFrame behavior). To access a value by position, use `ser.iloc[pos]`\n",
      "  best_move = row[1]\n"
     ]
    },
    {
     "name": "stdout",
     "output_type": "stream",
     "text": [
      "Board_FEN     rn1qk2r/p3p1bp/4bpp1/1pp5/3Pp3/P1P1P1PP/1P1N1P...\n",
      " Best_Move                                                 e8g8\n",
      "Name: 23, dtype: object\n",
      "Board_FEN     rn1q1rk1/p3p1bp/4bpp1/1pp5/3Pp3/P1P1P1PP/1P1N1...\n",
      " Best_Move                                                 d2e4\n",
      "Name: 24, dtype: object\n"
     ]
    },
    {
     "name": "stderr",
     "output_type": "stream",
     "text": [
      "/tmp/ipykernel_1607089/2717491704.py:10: FutureWarning: Series.__getitem__ treating keys as positions is deprecated. In a future version, integer keys will always be treated as labels (consistent with DataFrame behavior). To access a value by position, use `ser.iloc[pos]`\n",
      "  fen = row[0]\n",
      "/tmp/ipykernel_1607089/2717491704.py:11: FutureWarning: Series.__getitem__ treating keys as positions is deprecated. In a future version, integer keys will always be treated as labels (consistent with DataFrame behavior). To access a value by position, use `ser.iloc[pos]`\n",
      "  best_move = row[1]\n",
      "/tmp/ipykernel_1607089/2717491704.py:10: FutureWarning: Series.__getitem__ treating keys as positions is deprecated. In a future version, integer keys will always be treated as labels (consistent with DataFrame behavior). To access a value by position, use `ser.iloc[pos]`\n",
      "  fen = row[0]\n",
      "/tmp/ipykernel_1607089/2717491704.py:11: FutureWarning: Series.__getitem__ treating keys as positions is deprecated. In a future version, integer keys will always be treated as labels (consistent with DataFrame behavior). To access a value by position, use `ser.iloc[pos]`\n",
      "  best_move = row[1]\n"
     ]
    },
    {
     "name": "stdout",
     "output_type": "stream",
     "text": [
      "Board_FEN     rn1q1rk1/p3p1bp/4bpp1/1pp5/3PN3/P1P1P1PP/1P3P2...\n",
      " Best_Move                                                 c5d4\n",
      "Name: 25, dtype: object\n",
      "Board_FEN     rn1q1rk1/p3p1bp/4bpp1/1p6/3pN3/P1P1P1PP/1P3P2/...\n",
      " Best_Move                                                 c3d4\n",
      "Name: 26, dtype: object\n"
     ]
    },
    {
     "name": "stderr",
     "output_type": "stream",
     "text": [
      "/tmp/ipykernel_1607089/2717491704.py:10: FutureWarning: Series.__getitem__ treating keys as positions is deprecated. In a future version, integer keys will always be treated as labels (consistent with DataFrame behavior). To access a value by position, use `ser.iloc[pos]`\n",
      "  fen = row[0]\n",
      "/tmp/ipykernel_1607089/2717491704.py:11: FutureWarning: Series.__getitem__ treating keys as positions is deprecated. In a future version, integer keys will always be treated as labels (consistent with DataFrame behavior). To access a value by position, use `ser.iloc[pos]`\n",
      "  best_move = row[1]\n",
      "/tmp/ipykernel_1607089/2717491704.py:10: FutureWarning: Series.__getitem__ treating keys as positions is deprecated. In a future version, integer keys will always be treated as labels (consistent with DataFrame behavior). To access a value by position, use `ser.iloc[pos]`\n",
      "  fen = row[0]\n",
      "/tmp/ipykernel_1607089/2717491704.py:11: FutureWarning: Series.__getitem__ treating keys as positions is deprecated. In a future version, integer keys will always be treated as labels (consistent with DataFrame behavior). To access a value by position, use `ser.iloc[pos]`\n",
      "  best_move = row[1]\n",
      "\n",
      "(eog:1615654): EOG-CRITICAL **: 14:04:52.882: eog_image_get_file: assertion 'EOG_IS_IMAGE (img)' failed\n",
      "\n",
      "(eog:1615654): GLib-GIO-CRITICAL **: 14:04:52.882: g_file_equal: assertion 'G_IS_FILE (file1)' failed\n",
      "\n",
      "(eog:1615654): EOG-CRITICAL **: 14:04:52.882: eog_image_get_file: assertion 'EOG_IS_IMAGE (img)' failed\n",
      "\n",
      "(eog:1615654): GLib-GIO-CRITICAL **: 14:04:52.882: g_file_equal: assertion 'G_IS_FILE (file1)' failed\n"
     ]
    },
    {
     "name": "stdout",
     "output_type": "stream",
     "text": [
      "Board_FEN     rn1q1rk1/p3p1bp/4bpp1/1p6/3PN3/P3P1PP/1P3P2/R1...\n",
      " Best_Move                                                 d8b6\n",
      "Name: 27, dtype: object\n",
      "Board_FEN     rn3rk1/p3p1bp/1q2bpp1/1p6/3PN3/P3P1PP/1P3P2/R1...\n",
      " Best_Move                                                 e4c5\n",
      "Name: 28, dtype: object\n"
     ]
    },
    {
     "name": "stderr",
     "output_type": "stream",
     "text": [
      "/tmp/ipykernel_1607089/2717491704.py:10: FutureWarning: Series.__getitem__ treating keys as positions is deprecated. In a future version, integer keys will always be treated as labels (consistent with DataFrame behavior). To access a value by position, use `ser.iloc[pos]`\n",
      "  fen = row[0]\n",
      "/tmp/ipykernel_1607089/2717491704.py:11: FutureWarning: Series.__getitem__ treating keys as positions is deprecated. In a future version, integer keys will always be treated as labels (consistent with DataFrame behavior). To access a value by position, use `ser.iloc[pos]`\n",
      "  best_move = row[1]\n",
      "/tmp/ipykernel_1607089/2717491704.py:10: FutureWarning: Series.__getitem__ treating keys as positions is deprecated. In a future version, integer keys will always be treated as labels (consistent with DataFrame behavior). To access a value by position, use `ser.iloc[pos]`\n",
      "  fen = row[0]\n",
      "/tmp/ipykernel_1607089/2717491704.py:11: FutureWarning: Series.__getitem__ treating keys as positions is deprecated. In a future version, integer keys will always be treated as labels (consistent with DataFrame behavior). To access a value by position, use `ser.iloc[pos]`\n",
      "  best_move = row[1]\n"
     ]
    },
    {
     "name": "stdout",
     "output_type": "stream",
     "text": [
      "Board_FEN     rn3rk1/p3p1bp/1q2bpp1/1pN5/3P4/P3P1PP/1P3P2/R1...\n",
      " Best_Move                                                 e6d5\n",
      "Name: 29, dtype: object\n",
      "Board_FEN     rn3rk1/p3p1bp/1q3pp1/1pNb4/3P4/P3P1PP/1P3P2/R1...\n",
      " Best_Move                                                 h1h2\n",
      "Name: 30, dtype: object\n"
     ]
    },
    {
     "name": "stderr",
     "output_type": "stream",
     "text": [
      "/tmp/ipykernel_1607089/2717491704.py:10: FutureWarning: Series.__getitem__ treating keys as positions is deprecated. In a future version, integer keys will always be treated as labels (consistent with DataFrame behavior). To access a value by position, use `ser.iloc[pos]`\n",
      "  fen = row[0]\n",
      "/tmp/ipykernel_1607089/2717491704.py:11: FutureWarning: Series.__getitem__ treating keys as positions is deprecated. In a future version, integer keys will always be treated as labels (consistent with DataFrame behavior). To access a value by position, use `ser.iloc[pos]`\n",
      "  best_move = row[1]\n",
      "/tmp/ipykernel_1607089/2717491704.py:10: FutureWarning: Series.__getitem__ treating keys as positions is deprecated. In a future version, integer keys will always be treated as labels (consistent with DataFrame behavior). To access a value by position, use `ser.iloc[pos]`\n",
      "  fen = row[0]\n",
      "/tmp/ipykernel_1607089/2717491704.py:11: FutureWarning: Series.__getitem__ treating keys as positions is deprecated. In a future version, integer keys will always be treated as labels (consistent with DataFrame behavior). To access a value by position, use `ser.iloc[pos]`\n",
      "  best_move = row[1]\n"
     ]
    },
    {
     "name": "stdout",
     "output_type": "stream",
     "text": [
      "Board_FEN     rn3rk1/p3p1bp/1q3pp1/1pNb4/3P4/P3P1PP/1P3P1R/R...\n",
      " Best_Move                                                 e7e5\n",
      "Name: 31, dtype: object\n",
      "Board_FEN     rn3rk1/p5bp/1q3pp1/1pNbp3/3P4/P3P1PP/1P3P1R/R1...\n",
      " Best_Move                                                 f1g2\n",
      "Name: 32, dtype: object\n"
     ]
    },
    {
     "name": "stderr",
     "output_type": "stream",
     "text": [
      "/tmp/ipykernel_1607089/2717491704.py:10: FutureWarning: Series.__getitem__ treating keys as positions is deprecated. In a future version, integer keys will always be treated as labels (consistent with DataFrame behavior). To access a value by position, use `ser.iloc[pos]`\n",
      "  fen = row[0]\n",
      "/tmp/ipykernel_1607089/2717491704.py:11: FutureWarning: Series.__getitem__ treating keys as positions is deprecated. In a future version, integer keys will always be treated as labels (consistent with DataFrame behavior). To access a value by position, use `ser.iloc[pos]`\n",
      "  best_move = row[1]\n",
      "/tmp/ipykernel_1607089/2717491704.py:10: FutureWarning: Series.__getitem__ treating keys as positions is deprecated. In a future version, integer keys will always be treated as labels (consistent with DataFrame behavior). To access a value by position, use `ser.iloc[pos]`\n",
      "  fen = row[0]\n",
      "/tmp/ipykernel_1607089/2717491704.py:11: FutureWarning: Series.__getitem__ treating keys as positions is deprecated. In a future version, integer keys will always be treated as labels (consistent with DataFrame behavior). To access a value by position, use `ser.iloc[pos]`\n",
      "  best_move = row[1]\n"
     ]
    },
    {
     "name": "stdout",
     "output_type": "stream",
     "text": [
      "Board_FEN     rn3rk1/p5bp/1q3pp1/1pNbp3/3P4/P3P1PP/1P3PBR/R1...\n",
      " Best_Move                                                 d5g2\n",
      "Name: 33, dtype: object\n",
      "Board_FEN     rn3rk1/p5bp/1q3pp1/1pN1p3/3P4/P3P1PP/1P3PbR/R1...\n",
      " Best_Move                                                 h2g2\n",
      "Name: 34, dtype: object\n"
     ]
    },
    {
     "name": "stderr",
     "output_type": "stream",
     "text": [
      "/tmp/ipykernel_1607089/2717491704.py:10: FutureWarning: Series.__getitem__ treating keys as positions is deprecated. In a future version, integer keys will always be treated as labels (consistent with DataFrame behavior). To access a value by position, use `ser.iloc[pos]`\n",
      "  fen = row[0]\n",
      "/tmp/ipykernel_1607089/2717491704.py:11: FutureWarning: Series.__getitem__ treating keys as positions is deprecated. In a future version, integer keys will always be treated as labels (consistent with DataFrame behavior). To access a value by position, use `ser.iloc[pos]`\n",
      "  best_move = row[1]\n",
      "/tmp/ipykernel_1607089/2717491704.py:10: FutureWarning: Series.__getitem__ treating keys as positions is deprecated. In a future version, integer keys will always be treated as labels (consistent with DataFrame behavior). To access a value by position, use `ser.iloc[pos]`\n",
      "  fen = row[0]\n",
      "/tmp/ipykernel_1607089/2717491704.py:11: FutureWarning: Series.__getitem__ treating keys as positions is deprecated. In a future version, integer keys will always be treated as labels (consistent with DataFrame behavior). To access a value by position, use `ser.iloc[pos]`\n",
      "  best_move = row[1]\n"
     ]
    },
    {
     "name": "stdout",
     "output_type": "stream",
     "text": [
      "Board_FEN     rn3rk1/p5bp/1q3pp1/1pN1p3/3P4/P3P1PP/1P3PR1/R1...\n",
      " Best_Move                                                 e5d4\n",
      "Name: 35, dtype: object\n",
      "Board_FEN     rn3rk1/p5bp/1q3pp1/1pN5/3p4/P3P1PP/1P3PR1/R1BQ...\n",
      " Best_Move                                                 e3d4\n",
      "Name: 36, dtype: object\n"
     ]
    },
    {
     "name": "stderr",
     "output_type": "stream",
     "text": [
      "/tmp/ipykernel_1607089/2717491704.py:10: FutureWarning: Series.__getitem__ treating keys as positions is deprecated. In a future version, integer keys will always be treated as labels (consistent with DataFrame behavior). To access a value by position, use `ser.iloc[pos]`\n",
      "  fen = row[0]\n",
      "/tmp/ipykernel_1607089/2717491704.py:11: FutureWarning: Series.__getitem__ treating keys as positions is deprecated. In a future version, integer keys will always be treated as labels (consistent with DataFrame behavior). To access a value by position, use `ser.iloc[pos]`\n",
      "  best_move = row[1]\n",
      "/tmp/ipykernel_1607089/2717491704.py:10: FutureWarning: Series.__getitem__ treating keys as positions is deprecated. In a future version, integer keys will always be treated as labels (consistent with DataFrame behavior). To access a value by position, use `ser.iloc[pos]`\n",
      "  fen = row[0]\n",
      "/tmp/ipykernel_1607089/2717491704.py:11: FutureWarning: Series.__getitem__ treating keys as positions is deprecated. In a future version, integer keys will always be treated as labels (consistent with DataFrame behavior). To access a value by position, use `ser.iloc[pos]`\n",
      "  best_move = row[1]\n"
     ]
    },
    {
     "name": "stdout",
     "output_type": "stream",
     "text": [
      "Board_FEN     rn3rk1/p5bp/1q3pp1/1pN5/3P4/P5PP/1P3PR1/R1BQK3...\n",
      " Best_Move                                                 b8c6\n",
      "Name: 37, dtype: object\n",
      "Board_FEN     r4rk1/p5bp/1qn2pp1/1pN5/3P4/P5PP/1P3PR1/R1BQK3...\n",
      " Best_Move                                                 c1e3\n",
      "Name: 38, dtype: object\n",
      "Board_FEN     r4rk1/p5bp/1qn2pp1/1pN5/3P4/P3B1PP/1P3PR1/R2QK...\n",
      " Best_Move                                                 c6a5\n",
      "Name: 39, dtype: object\n"
     ]
    },
    {
     "name": "stderr",
     "output_type": "stream",
     "text": [
      "/tmp/ipykernel_1607089/2717491704.py:10: FutureWarning: Series.__getitem__ treating keys as positions is deprecated. In a future version, integer keys will always be treated as labels (consistent with DataFrame behavior). To access a value by position, use `ser.iloc[pos]`\n",
      "  fen = row[0]\n",
      "/tmp/ipykernel_1607089/2717491704.py:11: FutureWarning: Series.__getitem__ treating keys as positions is deprecated. In a future version, integer keys will always be treated as labels (consistent with DataFrame behavior). To access a value by position, use `ser.iloc[pos]`\n",
      "  best_move = row[1]\n",
      "/tmp/ipykernel_1607089/2717491704.py:10: FutureWarning: Series.__getitem__ treating keys as positions is deprecated. In a future version, integer keys will always be treated as labels (consistent with DataFrame behavior). To access a value by position, use `ser.iloc[pos]`\n",
      "  fen = row[0]\n",
      "/tmp/ipykernel_1607089/2717491704.py:11: FutureWarning: Series.__getitem__ treating keys as positions is deprecated. In a future version, integer keys will always be treated as labels (consistent with DataFrame behavior). To access a value by position, use `ser.iloc[pos]`\n",
      "  best_move = row[1]\n",
      "/tmp/ipykernel_1607089/2717491704.py:10: FutureWarning: Series.__getitem__ treating keys as positions is deprecated. In a future version, integer keys will always be treated as labels (consistent with DataFrame behavior). To access a value by position, use `ser.iloc[pos]`\n",
      "  fen = row[0]\n",
      "/tmp/ipykernel_1607089/2717491704.py:11: FutureWarning: Series.__getitem__ treating keys as positions is deprecated. In a future version, integer keys will always be treated as labels (consistent with DataFrame behavior). To access a value by position, use `ser.iloc[pos]`\n",
      "  best_move = row[1]\n"
     ]
    },
    {
     "name": "stdout",
     "output_type": "stream",
     "text": [
      "Board_FEN     r4rk1/p5bp/1q3pp1/npN5/3P4/P3B1PP/1P3PR1/R2QK3...\n",
      " Best_Move                                                 c5d7\n",
      "Name: 40, dtype: object\n",
      "Board_FEN     r4rk1/p2N2bp/1q3pp1/np6/3P4/P3B1PP/1P3PR1/R2QK...\n",
      " Best_Move                                                 b6b7\n",
      "Name: 41, dtype: object\n",
      "Board_FEN     r4rk1/pq1N2bp/5pp1/np6/3P4/P3B1PP/1P3PR1/R2QK3...\n",
      " Best_Move                                                 d7f8\n",
      "Name: 42, dtype: object\n"
     ]
    },
    {
     "name": "stderr",
     "output_type": "stream",
     "text": [
      "/tmp/ipykernel_1607089/2717491704.py:10: FutureWarning: Series.__getitem__ treating keys as positions is deprecated. In a future version, integer keys will always be treated as labels (consistent with DataFrame behavior). To access a value by position, use `ser.iloc[pos]`\n",
      "  fen = row[0]\n",
      "/tmp/ipykernel_1607089/2717491704.py:11: FutureWarning: Series.__getitem__ treating keys as positions is deprecated. In a future version, integer keys will always be treated as labels (consistent with DataFrame behavior). To access a value by position, use `ser.iloc[pos]`\n",
      "  best_move = row[1]\n",
      "/tmp/ipykernel_1607089/2717491704.py:10: FutureWarning: Series.__getitem__ treating keys as positions is deprecated. In a future version, integer keys will always be treated as labels (consistent with DataFrame behavior). To access a value by position, use `ser.iloc[pos]`\n",
      "  fen = row[0]\n",
      "/tmp/ipykernel_1607089/2717491704.py:11: FutureWarning: Series.__getitem__ treating keys as positions is deprecated. In a future version, integer keys will always be treated as labels (consistent with DataFrame behavior). To access a value by position, use `ser.iloc[pos]`\n",
      "  best_move = row[1]\n",
      "/tmp/ipykernel_1607089/2717491704.py:10: FutureWarning: Series.__getitem__ treating keys as positions is deprecated. In a future version, integer keys will always be treated as labels (consistent with DataFrame behavior). To access a value by position, use `ser.iloc[pos]`\n",
      "  fen = row[0]\n",
      "/tmp/ipykernel_1607089/2717491704.py:11: FutureWarning: Series.__getitem__ treating keys as positions is deprecated. In a future version, integer keys will always be treated as labels (consistent with DataFrame behavior). To access a value by position, use `ser.iloc[pos]`\n",
      "  best_move = row[1]\n"
     ]
    },
    {
     "name": "stdout",
     "output_type": "stream",
     "text": [
      "Board_FEN     r4Nk1/pq4bp/5pp1/np6/3P4/P3B1PP/1P3PR1/R2QK3 b...\n",
      " Best_Move                                                 b7g2\n",
      "Name: 43, dtype: object\n",
      "Board_FEN     r4Nk1/p5bp/5pp1/np6/3P4/P3B1PP/1P3Pq1/R2QK3 w ...\n",
      " Best_Move                                                 f8e6\n",
      "Name: 44, dtype: object\n"
     ]
    },
    {
     "name": "stderr",
     "output_type": "stream",
     "text": [
      "/tmp/ipykernel_1607089/2717491704.py:10: FutureWarning: Series.__getitem__ treating keys as positions is deprecated. In a future version, integer keys will always be treated as labels (consistent with DataFrame behavior). To access a value by position, use `ser.iloc[pos]`\n",
      "  fen = row[0]\n",
      "/tmp/ipykernel_1607089/2717491704.py:11: FutureWarning: Series.__getitem__ treating keys as positions is deprecated. In a future version, integer keys will always be treated as labels (consistent with DataFrame behavior). To access a value by position, use `ser.iloc[pos]`\n",
      "  best_move = row[1]\n",
      "/tmp/ipykernel_1607089/2717491704.py:10: FutureWarning: Series.__getitem__ treating keys as positions is deprecated. In a future version, integer keys will always be treated as labels (consistent with DataFrame behavior). To access a value by position, use `ser.iloc[pos]`\n",
      "  fen = row[0]\n",
      "/tmp/ipykernel_1607089/2717491704.py:11: FutureWarning: Series.__getitem__ treating keys as positions is deprecated. In a future version, integer keys will always be treated as labels (consistent with DataFrame behavior). To access a value by position, use `ser.iloc[pos]`\n",
      "  best_move = row[1]\n"
     ]
    },
    {
     "name": "stdout",
     "output_type": "stream",
     "text": [
      "Board_FEN     r5k1/p5bp/4Npp1/np6/3P4/P3B1PP/1P3Pq1/R2QK3 b ...\n",
      " Best_Move                                                 a5c4\n",
      "Name: 45, dtype: object\n",
      "Board_FEN     r5k1/p5bp/4Npp1/1p6/2nP4/P3B1PP/1P3Pq1/R2QK3 w...\n",
      " Best_Move                                                 e6f4\n",
      "Name: 46, dtype: object\n",
      "Board_FEN     r5k1/p5bp/5pp1/1p6/2nP1N2/P3B1PP/1P3Pq1/R2QK3 ...\n",
      " Best_Move                                                 g2e4\n",
      "Name: 47, dtype: object\n"
     ]
    },
    {
     "name": "stderr",
     "output_type": "stream",
     "text": [
      "/tmp/ipykernel_1607089/2717491704.py:10: FutureWarning: Series.__getitem__ treating keys as positions is deprecated. In a future version, integer keys will always be treated as labels (consistent with DataFrame behavior). To access a value by position, use `ser.iloc[pos]`\n",
      "  fen = row[0]\n",
      "/tmp/ipykernel_1607089/2717491704.py:11: FutureWarning: Series.__getitem__ treating keys as positions is deprecated. In a future version, integer keys will always be treated as labels (consistent with DataFrame behavior). To access a value by position, use `ser.iloc[pos]`\n",
      "  best_move = row[1]\n",
      "/tmp/ipykernel_1607089/2717491704.py:10: FutureWarning: Series.__getitem__ treating keys as positions is deprecated. In a future version, integer keys will always be treated as labels (consistent with DataFrame behavior). To access a value by position, use `ser.iloc[pos]`\n",
      "  fen = row[0]\n",
      "/tmp/ipykernel_1607089/2717491704.py:11: FutureWarning: Series.__getitem__ treating keys as positions is deprecated. In a future version, integer keys will always be treated as labels (consistent with DataFrame behavior). To access a value by position, use `ser.iloc[pos]`\n",
      "  best_move = row[1]\n",
      "/tmp/ipykernel_1607089/2717491704.py:10: FutureWarning: Series.__getitem__ treating keys as positions is deprecated. In a future version, integer keys will always be treated as labels (consistent with DataFrame behavior). To access a value by position, use `ser.iloc[pos]`\n",
      "  fen = row[0]\n",
      "/tmp/ipykernel_1607089/2717491704.py:11: FutureWarning: Series.__getitem__ treating keys as positions is deprecated. In a future version, integer keys will always be treated as labels (consistent with DataFrame behavior). To access a value by position, use `ser.iloc[pos]`\n",
      "  best_move = row[1]\n"
     ]
    },
    {
     "name": "stdout",
     "output_type": "stream",
     "text": [
      "Board_FEN     r5k1/p5bp/5pp1/1p6/2nPqN2/P3B1PP/1P3P2/R2QK3 w...\n",
      " Best_Move                                                 a1c1\n",
      "Name: 48, dtype: object\n",
      "Board_FEN     r5k1/p5bp/5pp1/1p6/2nPqN2/P3B1PP/1P3P2/2RQK3 b...\n",
      " Best_Move                                                 c4e3\n",
      "Name: 49, dtype: object\n",
      "Board_FEN     r5k1/p5bp/5pp1/1p6/3PqN2/P3n1PP/1P3P2/2RQK3 w ...\n",
      " Best_Move                                                 f2e3\n",
      "Name: 50, dtype: object\n"
     ]
    },
    {
     "name": "stderr",
     "output_type": "stream",
     "text": [
      "/tmp/ipykernel_1607089/2717491704.py:10: FutureWarning: Series.__getitem__ treating keys as positions is deprecated. In a future version, integer keys will always be treated as labels (consistent with DataFrame behavior). To access a value by position, use `ser.iloc[pos]`\n",
      "  fen = row[0]\n",
      "/tmp/ipykernel_1607089/2717491704.py:11: FutureWarning: Series.__getitem__ treating keys as positions is deprecated. In a future version, integer keys will always be treated as labels (consistent with DataFrame behavior). To access a value by position, use `ser.iloc[pos]`\n",
      "  best_move = row[1]\n",
      "/tmp/ipykernel_1607089/2717491704.py:10: FutureWarning: Series.__getitem__ treating keys as positions is deprecated. In a future version, integer keys will always be treated as labels (consistent with DataFrame behavior). To access a value by position, use `ser.iloc[pos]`\n",
      "  fen = row[0]\n",
      "/tmp/ipykernel_1607089/2717491704.py:11: FutureWarning: Series.__getitem__ treating keys as positions is deprecated. In a future version, integer keys will always be treated as labels (consistent with DataFrame behavior). To access a value by position, use `ser.iloc[pos]`\n",
      "  best_move = row[1]\n",
      "/tmp/ipykernel_1607089/2717491704.py:10: FutureWarning: Series.__getitem__ treating keys as positions is deprecated. In a future version, integer keys will always be treated as labels (consistent with DataFrame behavior). To access a value by position, use `ser.iloc[pos]`\n",
      "  fen = row[0]\n",
      "/tmp/ipykernel_1607089/2717491704.py:11: FutureWarning: Series.__getitem__ treating keys as positions is deprecated. In a future version, integer keys will always be treated as labels (consistent with DataFrame behavior). To access a value by position, use `ser.iloc[pos]`\n",
      "  best_move = row[1]\n"
     ]
    },
    {
     "name": "stdout",
     "output_type": "stream",
     "text": [
      "Board_FEN     r5k1/p5bp/5pp1/1p6/3PqN2/P3P1PP/1P6/2RQK3 b - ...\n",
      " Best_Move                                                 e4e3\n",
      "Name: 51, dtype: object\n",
      "Board_FEN     r5k1/p5bp/5pp1/1p6/3P1N2/P3q1PP/1P6/2RQK3 w - ...\n",
      " Best_Move                                                 e1f1\n",
      "Name: 52, dtype: object\n",
      "Board_FEN     r5k1/p5bp/5pp1/1p6/3P1N2/P3q1PP/1P6/2RQ1K2 b -...\n",
      " Best_Move                                                 g7h6\n",
      "Name: 53, dtype: object\n"
     ]
    },
    {
     "name": "stderr",
     "output_type": "stream",
     "text": [
      "/tmp/ipykernel_1607089/2717491704.py:10: FutureWarning: Series.__getitem__ treating keys as positions is deprecated. In a future version, integer keys will always be treated as labels (consistent with DataFrame behavior). To access a value by position, use `ser.iloc[pos]`\n",
      "  fen = row[0]\n",
      "/tmp/ipykernel_1607089/2717491704.py:11: FutureWarning: Series.__getitem__ treating keys as positions is deprecated. In a future version, integer keys will always be treated as labels (consistent with DataFrame behavior). To access a value by position, use `ser.iloc[pos]`\n",
      "  best_move = row[1]\n",
      "/tmp/ipykernel_1607089/2717491704.py:10: FutureWarning: Series.__getitem__ treating keys as positions is deprecated. In a future version, integer keys will always be treated as labels (consistent with DataFrame behavior). To access a value by position, use `ser.iloc[pos]`\n",
      "  fen = row[0]\n",
      "/tmp/ipykernel_1607089/2717491704.py:11: FutureWarning: Series.__getitem__ treating keys as positions is deprecated. In a future version, integer keys will always be treated as labels (consistent with DataFrame behavior). To access a value by position, use `ser.iloc[pos]`\n",
      "  best_move = row[1]\n",
      "/tmp/ipykernel_1607089/2717491704.py:10: FutureWarning: Series.__getitem__ treating keys as positions is deprecated. In a future version, integer keys will always be treated as labels (consistent with DataFrame behavior). To access a value by position, use `ser.iloc[pos]`\n",
      "  fen = row[0]\n",
      "/tmp/ipykernel_1607089/2717491704.py:11: FutureWarning: Series.__getitem__ treating keys as positions is deprecated. In a future version, integer keys will always be treated as labels (consistent with DataFrame behavior). To access a value by position, use `ser.iloc[pos]`\n",
      "  best_move = row[1]\n"
     ]
    },
    {
     "name": "stdout",
     "output_type": "stream",
     "text": [
      "Board_FEN     r5k1/p6p/5ppb/1p6/3P1N2/P3q1PP/1P6/2RQ1K2 w - ...\n",
      " Best_Move                                                 c1c3\n",
      "Name: 54, dtype: object\n",
      "Board_FEN     r5k1/p6p/5ppb/1p6/3P1N2/P1R1q1PP/1P6/3Q1K2 b -...\n",
      " Best_Move                                                 e3e4\n",
      "Name: 55, dtype: object\n",
      "Board_FEN     r5k1/p6p/5ppb/1p6/3PqN2/P1R3PP/1P6/3Q1K2 w - -...\n",
      " Best_Move                                                 d1b3\n",
      "Name: 56, dtype: object\n"
     ]
    },
    {
     "name": "stderr",
     "output_type": "stream",
     "text": [
      "/tmp/ipykernel_1607089/2717491704.py:10: FutureWarning: Series.__getitem__ treating keys as positions is deprecated. In a future version, integer keys will always be treated as labels (consistent with DataFrame behavior). To access a value by position, use `ser.iloc[pos]`\n",
      "  fen = row[0]\n",
      "/tmp/ipykernel_1607089/2717491704.py:11: FutureWarning: Series.__getitem__ treating keys as positions is deprecated. In a future version, integer keys will always be treated as labels (consistent with DataFrame behavior). To access a value by position, use `ser.iloc[pos]`\n",
      "  best_move = row[1]\n",
      "/tmp/ipykernel_1607089/2717491704.py:10: FutureWarning: Series.__getitem__ treating keys as positions is deprecated. In a future version, integer keys will always be treated as labels (consistent with DataFrame behavior). To access a value by position, use `ser.iloc[pos]`\n",
      "  fen = row[0]\n",
      "/tmp/ipykernel_1607089/2717491704.py:11: FutureWarning: Series.__getitem__ treating keys as positions is deprecated. In a future version, integer keys will always be treated as labels (consistent with DataFrame behavior). To access a value by position, use `ser.iloc[pos]`\n",
      "  best_move = row[1]\n",
      "/tmp/ipykernel_1607089/2717491704.py:10: FutureWarning: Series.__getitem__ treating keys as positions is deprecated. In a future version, integer keys will always be treated as labels (consistent with DataFrame behavior). To access a value by position, use `ser.iloc[pos]`\n",
      "  fen = row[0]\n",
      "/tmp/ipykernel_1607089/2717491704.py:11: FutureWarning: Series.__getitem__ treating keys as positions is deprecated. In a future version, integer keys will always be treated as labels (consistent with DataFrame behavior). To access a value by position, use `ser.iloc[pos]`\n",
      "  best_move = row[1]\n"
     ]
    },
    {
     "name": "stdout",
     "output_type": "stream",
     "text": [
      "Board_FEN     r5k1/p6p/5ppb/1p6/3PqN2/PQR3PP/1P6/5K2 b - - 5 29\n",
      " Best_Move                                                 g8g7\n",
      "Name: 57, dtype: object\n",
      "Board_FEN     r7/p5kp/5ppb/1p6/3PqN2/PQR3PP/1P6/5K2 w - - 6 30\n",
      " Best_Move                                                b3d5\n",
      "Name: 58, dtype: object\n",
      "Board_FEN     r7/p5kp/5ppb/1p1Q4/3PqN2/P1R3PP/1P6/5K2 b - - ...\n",
      " Best_Move                                                 e4b1\n",
      "Name: 59, dtype: object\n"
     ]
    },
    {
     "name": "stderr",
     "output_type": "stream",
     "text": [
      "/tmp/ipykernel_1607089/2717491704.py:10: FutureWarning: Series.__getitem__ treating keys as positions is deprecated. In a future version, integer keys will always be treated as labels (consistent with DataFrame behavior). To access a value by position, use `ser.iloc[pos]`\n",
      "  fen = row[0]\n",
      "/tmp/ipykernel_1607089/2717491704.py:11: FutureWarning: Series.__getitem__ treating keys as positions is deprecated. In a future version, integer keys will always be treated as labels (consistent with DataFrame behavior). To access a value by position, use `ser.iloc[pos]`\n",
      "  best_move = row[1]\n",
      "/tmp/ipykernel_1607089/2717491704.py:10: FutureWarning: Series.__getitem__ treating keys as positions is deprecated. In a future version, integer keys will always be treated as labels (consistent with DataFrame behavior). To access a value by position, use `ser.iloc[pos]`\n",
      "  fen = row[0]\n",
      "/tmp/ipykernel_1607089/2717491704.py:11: FutureWarning: Series.__getitem__ treating keys as positions is deprecated. In a future version, integer keys will always be treated as labels (consistent with DataFrame behavior). To access a value by position, use `ser.iloc[pos]`\n",
      "  best_move = row[1]\n",
      "\n",
      "(eog:1615654): EOG-CRITICAL **: 14:04:56.248: eog_image_get_file: assertion 'EOG_IS_IMAGE (img)' failed\n",
      "\n",
      "(eog:1615654): GLib-GIO-CRITICAL **: 14:04:56.249: g_file_equal: assertion 'G_IS_FILE (file1)' failed\n",
      "\n",
      "(eog:1615654): EOG-CRITICAL **: 14:04:56.249: eog_image_get_file: assertion 'EOG_IS_IMAGE (img)' failed\n",
      "\n",
      "(eog:1615654): GLib-GIO-CRITICAL **: 14:04:56.249: g_file_equal: assertion 'G_IS_FILE (file1)' failed\n",
      "\n",
      "(eog:1615654): EOG-CRITICAL **: 14:04:56.249: eog_image_get_file: assertion 'EOG_IS_IMAGE (img)' failed\n",
      "\n",
      "(eog:1615654): GLib-GIO-CRITICAL **: 14:04:56.249: g_file_equal: assertion 'G_IS_FILE (file1)' failed\n",
      "\n",
      "(eog:1615654): EOG-CRITICAL **: 14:04:56.249: eog_image_get_file: assertion 'EOG_IS_IMAGE (img)' failed\n",
      "\n",
      "(eog:1615654): GLib-GIO-CRITICAL **: 14:04:56.249: g_file_equal: assertion 'G_IS_FILE (file1)' failed\n",
      "\n",
      "(eog:1615654): EOG-CRITICAL **: 14:04:56.249: eog_image_get_file: assertion 'EOG_IS_IMAGE (img)' failed\n",
      "\n",
      "(eog:1615654): GLib-GIO-CRITICAL **: 14:04:56.249: g_file_equal: assertion 'G_IS_FILE (file1)' failed\n",
      "\n",
      "(eog:1615654): EOG-CRITICAL **: 14:04:56.249: eog_image_get_file: assertion 'EOG_IS_IMAGE (img)' failed\n",
      "\n",
      "(eog:1615654): GLib-GIO-CRITICAL **: 14:04:56.249: g_file_equal: assertion 'G_IS_FILE (file1)' failed\n",
      "\n",
      "(eog:1615654): EOG-CRITICAL **: 14:04:56.249: eog_image_get_file: assertion 'EOG_IS_IMAGE (img)' failed\n",
      "\n",
      "(eog:1615654): GLib-GIO-CRITICAL **: 14:04:56.249: g_file_equal: assertion 'G_IS_FILE (file1)' failed\n",
      "/tmp/ipykernel_1607089/2717491704.py:10: FutureWarning: Series.__getitem__ treating keys as positions is deprecated. In a future version, integer keys will always be treated as labels (consistent with DataFrame behavior). To access a value by position, use `ser.iloc[pos]`\n",
      "  fen = row[0]\n",
      "/tmp/ipykernel_1607089/2717491704.py:11: FutureWarning: Series.__getitem__ treating keys as positions is deprecated. In a future version, integer keys will always be treated as labels (consistent with DataFrame behavior). To access a value by position, use `ser.iloc[pos]`\n",
      "  best_move = row[1]\n"
     ]
    },
    {
     "name": "stdout",
     "output_type": "stream",
     "text": [
      "Board_FEN     r7/p5kp/5ppb/1p1Q4/3P1N2/P1R3PP/1P6/1q3K2 w - ...\n",
      " Best_Move                                                 f1f2\n",
      "Name: 60, dtype: object\n",
      "Board_FEN     r7/p5kp/5ppb/1p1Q4/3P1N2/P1R3PP/1P3K2/1q6 b - ...\n",
      " Best_Move                                                 h6f4\n",
      "Name: 61, dtype: object\n",
      "Board_FEN     r7/p5kp/5pp1/1p1Q4/3P1b2/P1R3PP/1P3K2/1q6 w - ...\n",
      " Best_Move                                                 c3c5\n",
      "Name: 62, dtype: object\n"
     ]
    },
    {
     "name": "stderr",
     "output_type": "stream",
     "text": [
      "/tmp/ipykernel_1607089/2717491704.py:10: FutureWarning: Series.__getitem__ treating keys as positions is deprecated. In a future version, integer keys will always be treated as labels (consistent with DataFrame behavior). To access a value by position, use `ser.iloc[pos]`\n",
      "  fen = row[0]\n",
      "/tmp/ipykernel_1607089/2717491704.py:11: FutureWarning: Series.__getitem__ treating keys as positions is deprecated. In a future version, integer keys will always be treated as labels (consistent with DataFrame behavior). To access a value by position, use `ser.iloc[pos]`\n",
      "  best_move = row[1]\n",
      "/tmp/ipykernel_1607089/2717491704.py:10: FutureWarning: Series.__getitem__ treating keys as positions is deprecated. In a future version, integer keys will always be treated as labels (consistent with DataFrame behavior). To access a value by position, use `ser.iloc[pos]`\n",
      "  fen = row[0]\n",
      "/tmp/ipykernel_1607089/2717491704.py:11: FutureWarning: Series.__getitem__ treating keys as positions is deprecated. In a future version, integer keys will always be treated as labels (consistent with DataFrame behavior). To access a value by position, use `ser.iloc[pos]`\n",
      "  best_move = row[1]\n",
      "/tmp/ipykernel_1607089/2717491704.py:10: FutureWarning: Series.__getitem__ treating keys as positions is deprecated. In a future version, integer keys will always be treated as labels (consistent with DataFrame behavior). To access a value by position, use `ser.iloc[pos]`\n",
      "  fen = row[0]\n",
      "/tmp/ipykernel_1607089/2717491704.py:11: FutureWarning: Series.__getitem__ treating keys as positions is deprecated. In a future version, integer keys will always be treated as labels (consistent with DataFrame behavior). To access a value by position, use `ser.iloc[pos]`\n",
      "  best_move = row[1]\n",
      "\n",
      "(eog:1615654): EOG-CRITICAL **: 14:04:56.604: eog_image_get_file: assertion 'EOG_IS_IMAGE (img)' failed\n",
      "\n",
      "(eog:1615654): GLib-GIO-CRITICAL **: 14:04:56.604: g_file_equal: assertion 'G_IS_FILE (file1)' failed\n",
      "\n",
      "(eog:1615654): EOG-CRITICAL **: 14:04:56.604: eog_image_get_file: assertion 'EOG_IS_IMAGE (img)' failed\n",
      "\n",
      "(eog:1615654): GLib-GIO-CRITICAL **: 14:04:56.604: g_file_equal: assertion 'G_IS_FILE (file1)' failed\n",
      "\n",
      "(eog:1615654): EOG-CRITICAL **: 14:04:56.604: eog_image_get_file: assertion 'EOG_IS_IMAGE (img)' failed\n",
      "\n",
      "(eog:1615654): GLib-GIO-CRITICAL **: 14:04:56.604: g_file_equal: assertion 'G_IS_FILE (file1)' failed\n",
      "\n",
      "(eog:1615654): EOG-CRITICAL **: 14:04:56.604: eog_image_get_file: assertion 'EOG_IS_IMAGE (img)' failed\n",
      "\n",
      "(eog:1615654): GLib-GIO-CRITICAL **: 14:04:56.604: g_file_equal: assertion 'G_IS_FILE (file1)' failed\n",
      "/tmp/ipykernel_1607089/2717491704.py:10: FutureWarning: Series.__getitem__ treating keys as positions is deprecated. In a future version, integer keys will always be treated as labels (consistent with DataFrame behavior). To access a value by position, use `ser.iloc[pos]`\n",
      "  fen = row[0]\n",
      "/tmp/ipykernel_1607089/2717491704.py:11: FutureWarning: Series.__getitem__ treating keys as positions is deprecated. In a future version, integer keys will always be treated as labels (consistent with DataFrame behavior). To access a value by position, use `ser.iloc[pos]`\n",
      "  best_move = row[1]\n",
      "/tmp/ipykernel_1607089/2717491704.py:10: FutureWarning: Series.__getitem__ treating keys as positions is deprecated. In a future version, integer keys will always be treated as labels (consistent with DataFrame behavior). To access a value by position, use `ser.iloc[pos]`\n",
      "  fen = row[0]\n",
      "/tmp/ipykernel_1607089/2717491704.py:11: FutureWarning: Series.__getitem__ treating keys as positions is deprecated. In a future version, integer keys will always be treated as labels (consistent with DataFrame behavior). To access a value by position, use `ser.iloc[pos]`\n",
      "  best_move = row[1]\n"
     ]
    },
    {
     "name": "stdout",
     "output_type": "stream",
     "text": [
      "Board_FEN     r7/p5kp/5pp1/1pRQ4/3P1b2/P5PP/1P3K2/1q6 b - - ...\n",
      " Best_Move                                                 a8f8\n",
      "Name: 63, dtype: object\n",
      "Board_FEN     5r2/p5kp/5pp1/1pRQ4/3P1b2/P5PP/1P3K2/1q6 w - -...\n",
      " Best_Move                                                 g3f4\n",
      "Name: 64, dtype: object\n",
      "Board_FEN     5r2/p5kp/5pp1/1pRQ4/3P1P2/P6P/1P3K2/1q6 b - - ...\n",
      " Best_Move                                                 f8f7\n",
      "Name: 65, dtype: object\n"
     ]
    },
    {
     "name": "stderr",
     "output_type": "stream",
     "text": [
      "/tmp/ipykernel_1607089/2717491704.py:10: FutureWarning: Series.__getitem__ treating keys as positions is deprecated. In a future version, integer keys will always be treated as labels (consistent with DataFrame behavior). To access a value by position, use `ser.iloc[pos]`\n",
      "  fen = row[0]\n",
      "/tmp/ipykernel_1607089/2717491704.py:11: FutureWarning: Series.__getitem__ treating keys as positions is deprecated. In a future version, integer keys will always be treated as labels (consistent with DataFrame behavior). To access a value by position, use `ser.iloc[pos]`\n",
      "  best_move = row[1]\n",
      "\n",
      "(eog:1615654): EOG-CRITICAL **: 14:04:56.939: eog_image_get_file: assertion 'EOG_IS_IMAGE (img)' failed\n",
      "\n",
      "(eog:1615654): GLib-GIO-CRITICAL **: 14:04:56.939: g_file_equal: assertion 'G_IS_FILE (file1)' failed\n",
      "\n",
      "(eog:1615654): EOG-CRITICAL **: 14:04:56.939: eog_image_get_file: assertion 'EOG_IS_IMAGE (img)' failed\n",
      "\n",
      "(eog:1615654): GLib-GIO-CRITICAL **: 14:04:56.939: g_file_equal: assertion 'G_IS_FILE (file1)' failed\n",
      "/tmp/ipykernel_1607089/2717491704.py:10: FutureWarning: Series.__getitem__ treating keys as positions is deprecated. In a future version, integer keys will always be treated as labels (consistent with DataFrame behavior). To access a value by position, use `ser.iloc[pos]`\n",
      "  fen = row[0]\n",
      "/tmp/ipykernel_1607089/2717491704.py:11: FutureWarning: Series.__getitem__ treating keys as positions is deprecated. In a future version, integer keys will always be treated as labels (consistent with DataFrame behavior). To access a value by position, use `ser.iloc[pos]`\n",
      "  best_move = row[1]\n",
      "\n",
      "(eog:1615654): EOG-CRITICAL **: 14:04:57.062: eog_image_get_file: assertion 'EOG_IS_IMAGE (img)' failed\n",
      "\n",
      "(eog:1615654): GLib-GIO-CRITICAL **: 14:04:57.062: g_file_equal: assertion 'G_IS_FILE (file1)' failed\n",
      "/tmp/ipykernel_1607089/2717491704.py:10: FutureWarning: Series.__getitem__ treating keys as positions is deprecated. In a future version, integer keys will always be treated as labels (consistent with DataFrame behavior). To access a value by position, use `ser.iloc[pos]`\n",
      "  fen = row[0]\n",
      "/tmp/ipykernel_1607089/2717491704.py:11: FutureWarning: Series.__getitem__ treating keys as positions is deprecated. In a future version, integer keys will always be treated as labels (consistent with DataFrame behavior). To access a value by position, use `ser.iloc[pos]`\n",
      "  best_move = row[1]\n"
     ]
    },
    {
     "name": "stdout",
     "output_type": "stream",
     "text": [
      "Board_FEN     8/p4rkp/5pp1/1pRQ4/3P1P2/P6P/1P3K2/1q6 w - - 1 34\n",
      " Best_Move                                                 c5b5\n",
      "Name: 66, dtype: object\n",
      "Board_FEN     8/p4rkp/5pp1/1R1Q4/3P1P2/P6P/1P3K2/1q6 b - - 0 34\n",
      " Best_Move                                                 f7e7\n",
      "Name: 67, dtype: object\n",
      "Board_FEN     8/p3r1kp/5pp1/1R1Q4/3P1P2/P6P/1P3K2/1q6 w - - ...\n",
      " Best_Move                                                 b5b7\n",
      "Name: 68, dtype: object\n"
     ]
    },
    {
     "name": "stderr",
     "output_type": "stream",
     "text": [
      "\n",
      "(eog:1615654): EOG-CRITICAL **: 14:04:57.140: eog_image_get_file: assertion 'EOG_IS_IMAGE (img)' failed\n",
      "\n",
      "(eog:1615654): GLib-GIO-CRITICAL **: 14:04:57.140: g_file_equal: assertion 'G_IS_FILE (file1)' failed\n",
      "/tmp/ipykernel_1607089/2717491704.py:10: FutureWarning: Series.__getitem__ treating keys as positions is deprecated. In a future version, integer keys will always be treated as labels (consistent with DataFrame behavior). To access a value by position, use `ser.iloc[pos]`\n",
      "  fen = row[0]\n",
      "/tmp/ipykernel_1607089/2717491704.py:11: FutureWarning: Series.__getitem__ treating keys as positions is deprecated. In a future version, integer keys will always be treated as labels (consistent with DataFrame behavior). To access a value by position, use `ser.iloc[pos]`\n",
      "  best_move = row[1]\n",
      "\n",
      "(eog:1615654): EOG-CRITICAL **: 14:04:57.239: eog_image_get_file: assertion 'EOG_IS_IMAGE (img)' failed\n",
      "\n",
      "(eog:1615654): GLib-GIO-CRITICAL **: 14:04:57.239: g_file_equal: assertion 'G_IS_FILE (file1)' failed\n",
      "\n",
      "(eog:1615654): EOG-CRITICAL **: 14:04:57.239: eog_image_get_file: assertion 'EOG_IS_IMAGE (img)' failed\n",
      "\n",
      "(eog:1615654): GLib-GIO-CRITICAL **: 14:04:57.239: g_file_equal: assertion 'G_IS_FILE (file1)' failed\n",
      "/tmp/ipykernel_1607089/2717491704.py:10: FutureWarning: Series.__getitem__ treating keys as positions is deprecated. In a future version, integer keys will always be treated as labels (consistent with DataFrame behavior). To access a value by position, use `ser.iloc[pos]`\n",
      "  fen = row[0]\n",
      "/tmp/ipykernel_1607089/2717491704.py:11: FutureWarning: Series.__getitem__ treating keys as positions is deprecated. In a future version, integer keys will always be treated as labels (consistent with DataFrame behavior). To access a value by position, use `ser.iloc[pos]`\n",
      "  best_move = row[1]\n",
      "/tmp/ipykernel_1607089/2717491704.py:10: FutureWarning: Series.__getitem__ treating keys as positions is deprecated. In a future version, integer keys will always be treated as labels (consistent with DataFrame behavior). To access a value by position, use `ser.iloc[pos]`\n",
      "  fen = row[0]\n",
      "/tmp/ipykernel_1607089/2717491704.py:11: FutureWarning: Series.__getitem__ treating keys as positions is deprecated. In a future version, integer keys will always be treated as labels (consistent with DataFrame behavior). To access a value by position, use `ser.iloc[pos]`\n",
      "  best_move = row[1]\n"
     ]
    },
    {
     "name": "stdout",
     "output_type": "stream",
     "text": [
      "Board_FEN     8/pR2r1kp/5pp1/3Q4/3P1P2/P6P/1P3K2/1q6 b - - 2 35\n",
      " Best_Move                                                 b1e1\n",
      "Name: 69, dtype: object\n",
      "Board_FEN     8/pR2r1kp/5pp1/3Q4/3P1P2/P6P/1P3K2/4q3 w - - 3 36\n",
      " Best_Move                                                 f2g2\n",
      "Name: 70, dtype: object\n",
      "Board_FEN     8/pR2r1kp/5pp1/3Q4/3P1P2/P6P/1P4K1/4q3 b - - 4 36\n",
      " Best_Move                                                 g7h6\n",
      "Name: 71, dtype: object\n"
     ]
    },
    {
     "name": "stderr",
     "output_type": "stream",
     "text": [
      "\n",
      "(eog:1615654): EOG-CRITICAL **: 14:04:57.379: eog_image_get_file: assertion 'EOG_IS_IMAGE (img)' failed\n",
      "\n",
      "(eog:1615654): GLib-GIO-CRITICAL **: 14:04:57.379: g_file_equal: assertion 'G_IS_FILE (file1)' failed\n",
      "/tmp/ipykernel_1607089/2717491704.py:10: FutureWarning: Series.__getitem__ treating keys as positions is deprecated. In a future version, integer keys will always be treated as labels (consistent with DataFrame behavior). To access a value by position, use `ser.iloc[pos]`\n",
      "  fen = row[0]\n",
      "/tmp/ipykernel_1607089/2717491704.py:11: FutureWarning: Series.__getitem__ treating keys as positions is deprecated. In a future version, integer keys will always be treated as labels (consistent with DataFrame behavior). To access a value by position, use `ser.iloc[pos]`\n",
      "  best_move = row[1]\n",
      "\n",
      "(eog:1615654): EOG-CRITICAL **: 14:04:57.488: eog_image_get_file: assertion 'EOG_IS_IMAGE (img)' failed\n",
      "\n",
      "(eog:1615654): GLib-GIO-CRITICAL **: 14:04:57.488: g_file_equal: assertion 'G_IS_FILE (file1)' failed\n",
      "/tmp/ipykernel_1607089/2717491704.py:10: FutureWarning: Series.__getitem__ treating keys as positions is deprecated. In a future version, integer keys will always be treated as labels (consistent with DataFrame behavior). To access a value by position, use `ser.iloc[pos]`\n",
      "  fen = row[0]\n",
      "/tmp/ipykernel_1607089/2717491704.py:11: FutureWarning: Series.__getitem__ treating keys as positions is deprecated. In a future version, integer keys will always be treated as labels (consistent with DataFrame behavior). To access a value by position, use `ser.iloc[pos]`\n",
      "  best_move = row[1]\n",
      "\n",
      "(eog:1615654): EOG-CRITICAL **: 14:04:57.574: eog_image_get_file: assertion 'EOG_IS_IMAGE (img)' failed\n",
      "\n",
      "(eog:1615654): GLib-GIO-CRITICAL **: 14:04:57.574: g_file_equal: assertion 'G_IS_FILE (file1)' failed\n"
     ]
    },
    {
     "name": "stdout",
     "output_type": "stream",
     "text": [
      "Board_FEN     rnbqkbnr/pppppppp/8/8/8/8/PPPPPPPP/RNBQKBNR w ...\n",
      " Best_Move                                                 g1f3\n",
      "Name: 72, dtype: object\n",
      "Board_FEN     rnbqkbnr/pppppppp/8/8/8/5N2/PPPPPPPP/RNBQKB1R ...\n",
      " Best_Move                                                 d7d5\n",
      "Name: 73, dtype: object\n"
     ]
    },
    {
     "name": "stderr",
     "output_type": "stream",
     "text": [
      "/tmp/ipykernel_1607089/2717491704.py:10: FutureWarning: Series.__getitem__ treating keys as positions is deprecated. In a future version, integer keys will always be treated as labels (consistent with DataFrame behavior). To access a value by position, use `ser.iloc[pos]`\n",
      "  fen = row[0]\n",
      "/tmp/ipykernel_1607089/2717491704.py:11: FutureWarning: Series.__getitem__ treating keys as positions is deprecated. In a future version, integer keys will always be treated as labels (consistent with DataFrame behavior). To access a value by position, use `ser.iloc[pos]`\n",
      "  best_move = row[1]\n",
      "/tmp/ipykernel_1607089/2717491704.py:10: FutureWarning: Series.__getitem__ treating keys as positions is deprecated. In a future version, integer keys will always be treated as labels (consistent with DataFrame behavior). To access a value by position, use `ser.iloc[pos]`\n",
      "  fen = row[0]\n",
      "/tmp/ipykernel_1607089/2717491704.py:11: FutureWarning: Series.__getitem__ treating keys as positions is deprecated. In a future version, integer keys will always be treated as labels (consistent with DataFrame behavior). To access a value by position, use `ser.iloc[pos]`\n",
      "  best_move = row[1]\n"
     ]
    },
    {
     "name": "stdout",
     "output_type": "stream",
     "text": [
      "Board_FEN     rnbqkbnr/ppp1pppp/8/3p4/8/5N2/PPPPPPPP/RNBQKB1...\n",
      " Best_Move                                                 e2e3\n",
      "Name: 74, dtype: object\n",
      "Board_FEN     rnbqkbnr/ppp1pppp/8/3p4/8/4PN2/PPPP1PPP/RNBQKB...\n",
      " Best_Move                                                 c7c6\n",
      "Name: 75, dtype: object\n"
     ]
    },
    {
     "name": "stderr",
     "output_type": "stream",
     "text": [
      "/tmp/ipykernel_1607089/2717491704.py:10: FutureWarning: Series.__getitem__ treating keys as positions is deprecated. In a future version, integer keys will always be treated as labels (consistent with DataFrame behavior). To access a value by position, use `ser.iloc[pos]`\n",
      "  fen = row[0]\n",
      "/tmp/ipykernel_1607089/2717491704.py:11: FutureWarning: Series.__getitem__ treating keys as positions is deprecated. In a future version, integer keys will always be treated as labels (consistent with DataFrame behavior). To access a value by position, use `ser.iloc[pos]`\n",
      "  best_move = row[1]\n",
      "/tmp/ipykernel_1607089/2717491704.py:10: FutureWarning: Series.__getitem__ treating keys as positions is deprecated. In a future version, integer keys will always be treated as labels (consistent with DataFrame behavior). To access a value by position, use `ser.iloc[pos]`\n",
      "  fen = row[0]\n",
      "/tmp/ipykernel_1607089/2717491704.py:11: FutureWarning: Series.__getitem__ treating keys as positions is deprecated. In a future version, integer keys will always be treated as labels (consistent with DataFrame behavior). To access a value by position, use `ser.iloc[pos]`\n",
      "  best_move = row[1]\n"
     ]
    },
    {
     "name": "stdout",
     "output_type": "stream",
     "text": [
      "Board_FEN     rnbqkbnr/pp2pppp/2p5/3p4/8/4PN2/PPPP1PPP/RNBQK...\n",
      " Best_Move                                                 c2c4\n",
      "Name: 76, dtype: object\n",
      "Board_FEN     rnbqkbnr/pp2pppp/2p5/3p4/2P5/4PN2/PP1P1PPP/RNB...\n",
      " Best_Move                                                 g8f6\n",
      "Name: 77, dtype: object\n"
     ]
    },
    {
     "name": "stderr",
     "output_type": "stream",
     "text": [
      "/tmp/ipykernel_1607089/2717491704.py:10: FutureWarning: Series.__getitem__ treating keys as positions is deprecated. In a future version, integer keys will always be treated as labels (consistent with DataFrame behavior). To access a value by position, use `ser.iloc[pos]`\n",
      "  fen = row[0]\n",
      "/tmp/ipykernel_1607089/2717491704.py:11: FutureWarning: Series.__getitem__ treating keys as positions is deprecated. In a future version, integer keys will always be treated as labels (consistent with DataFrame behavior). To access a value by position, use `ser.iloc[pos]`\n",
      "  best_move = row[1]\n",
      "/tmp/ipykernel_1607089/2717491704.py:10: FutureWarning: Series.__getitem__ treating keys as positions is deprecated. In a future version, integer keys will always be treated as labels (consistent with DataFrame behavior). To access a value by position, use `ser.iloc[pos]`\n",
      "  fen = row[0]\n",
      "/tmp/ipykernel_1607089/2717491704.py:11: FutureWarning: Series.__getitem__ treating keys as positions is deprecated. In a future version, integer keys will always be treated as labels (consistent with DataFrame behavior). To access a value by position, use `ser.iloc[pos]`\n",
      "  best_move = row[1]\n"
     ]
    },
    {
     "name": "stdout",
     "output_type": "stream",
     "text": [
      "Board_FEN     rnbqkb1r/pp2pppp/2p2n2/3p4/2P5/4PN2/PP1P1PPP/R...\n",
      " Best_Move                                                 b1c3\n",
      "Name: 78, dtype: object\n",
      "Board_FEN     rnbqkb1r/pp2pppp/2p2n2/3p4/2P5/2N1PN2/PP1P1PPP...\n",
      " Best_Move                                                 b8d7\n",
      "Name: 79, dtype: object\n"
     ]
    },
    {
     "name": "stderr",
     "output_type": "stream",
     "text": [
      "/tmp/ipykernel_1607089/2717491704.py:10: FutureWarning: Series.__getitem__ treating keys as positions is deprecated. In a future version, integer keys will always be treated as labels (consistent with DataFrame behavior). To access a value by position, use `ser.iloc[pos]`\n",
      "  fen = row[0]\n",
      "/tmp/ipykernel_1607089/2717491704.py:11: FutureWarning: Series.__getitem__ treating keys as positions is deprecated. In a future version, integer keys will always be treated as labels (consistent with DataFrame behavior). To access a value by position, use `ser.iloc[pos]`\n",
      "  best_move = row[1]\n",
      "/tmp/ipykernel_1607089/2717491704.py:10: FutureWarning: Series.__getitem__ treating keys as positions is deprecated. In a future version, integer keys will always be treated as labels (consistent with DataFrame behavior). To access a value by position, use `ser.iloc[pos]`\n",
      "  fen = row[0]\n",
      "/tmp/ipykernel_1607089/2717491704.py:11: FutureWarning: Series.__getitem__ treating keys as positions is deprecated. In a future version, integer keys will always be treated as labels (consistent with DataFrame behavior). To access a value by position, use `ser.iloc[pos]`\n",
      "  best_move = row[1]\n"
     ]
    },
    {
     "name": "stdout",
     "output_type": "stream",
     "text": [
      "Board_FEN     r1bqkb1r/pp1npppp/2p2n2/3p4/2P5/2N1PN2/PP1P1PP...\n",
      " Best_Move                                                 f1e2\n",
      "Name: 80, dtype: object\n",
      "Board_FEN     r1bqkb1r/pp1npppp/2p2n2/3p4/2P5/2N1PN2/PP1PBPP...\n",
      " Best_Move                                                 h7h6\n",
      "Name: 81, dtype: object\n"
     ]
    },
    {
     "name": "stderr",
     "output_type": "stream",
     "text": [
      "/tmp/ipykernel_1607089/2717491704.py:10: FutureWarning: Series.__getitem__ treating keys as positions is deprecated. In a future version, integer keys will always be treated as labels (consistent with DataFrame behavior). To access a value by position, use `ser.iloc[pos]`\n",
      "  fen = row[0]\n",
      "/tmp/ipykernel_1607089/2717491704.py:11: FutureWarning: Series.__getitem__ treating keys as positions is deprecated. In a future version, integer keys will always be treated as labels (consistent with DataFrame behavior). To access a value by position, use `ser.iloc[pos]`\n",
      "  best_move = row[1]\n",
      "/tmp/ipykernel_1607089/2717491704.py:10: FutureWarning: Series.__getitem__ treating keys as positions is deprecated. In a future version, integer keys will always be treated as labels (consistent with DataFrame behavior). To access a value by position, use `ser.iloc[pos]`\n",
      "  fen = row[0]\n",
      "/tmp/ipykernel_1607089/2717491704.py:11: FutureWarning: Series.__getitem__ treating keys as positions is deprecated. In a future version, integer keys will always be treated as labels (consistent with DataFrame behavior). To access a value by position, use `ser.iloc[pos]`\n",
      "  best_move = row[1]\n"
     ]
    },
    {
     "name": "stdout",
     "output_type": "stream",
     "text": [
      "Board_FEN     r1bqkb1r/pp1nppp1/2p2n1p/3p4/2P5/2N1PN2/PP1PBP...\n",
      " Best_Move                                                 e1g1\n",
      "Name: 82, dtype: object\n",
      "Board_FEN     r1bqkb1r/pp1nppp1/2p2n1p/3p4/2P5/2N1PN2/PP1PBP...\n",
      " Best_Move                                                 e7e5\n",
      "Name: 83, dtype: object\n"
     ]
    },
    {
     "name": "stderr",
     "output_type": "stream",
     "text": [
      "/tmp/ipykernel_1607089/2717491704.py:10: FutureWarning: Series.__getitem__ treating keys as positions is deprecated. In a future version, integer keys will always be treated as labels (consistent with DataFrame behavior). To access a value by position, use `ser.iloc[pos]`\n",
      "  fen = row[0]\n",
      "/tmp/ipykernel_1607089/2717491704.py:11: FutureWarning: Series.__getitem__ treating keys as positions is deprecated. In a future version, integer keys will always be treated as labels (consistent with DataFrame behavior). To access a value by position, use `ser.iloc[pos]`\n",
      "  best_move = row[1]\n",
      "/tmp/ipykernel_1607089/2717491704.py:10: FutureWarning: Series.__getitem__ treating keys as positions is deprecated. In a future version, integer keys will always be treated as labels (consistent with DataFrame behavior). To access a value by position, use `ser.iloc[pos]`\n",
      "  fen = row[0]\n",
      "/tmp/ipykernel_1607089/2717491704.py:11: FutureWarning: Series.__getitem__ treating keys as positions is deprecated. In a future version, integer keys will always be treated as labels (consistent with DataFrame behavior). To access a value by position, use `ser.iloc[pos]`\n",
      "  best_move = row[1]\n"
     ]
    },
    {
     "name": "stdout",
     "output_type": "stream",
     "text": [
      "Board_FEN     r1bqkb1r/pp1n1pp1/2p2n1p/3pp3/2P5/2N1PN2/PP1PB...\n",
      " Best_Move                                                 c4d5\n",
      "Name: 84, dtype: object\n",
      "Board_FEN     r1bqkb1r/pp1n1pp1/2p2n1p/3Pp3/8/2N1PN2/PP1PBPP...\n",
      " Best_Move                                                 c6d5\n",
      "Name: 85, dtype: object\n"
     ]
    },
    {
     "name": "stderr",
     "output_type": "stream",
     "text": [
      "/tmp/ipykernel_1607089/2717491704.py:10: FutureWarning: Series.__getitem__ treating keys as positions is deprecated. In a future version, integer keys will always be treated as labels (consistent with DataFrame behavior). To access a value by position, use `ser.iloc[pos]`\n",
      "  fen = row[0]\n",
      "/tmp/ipykernel_1607089/2717491704.py:11: FutureWarning: Series.__getitem__ treating keys as positions is deprecated. In a future version, integer keys will always be treated as labels (consistent with DataFrame behavior). To access a value by position, use `ser.iloc[pos]`\n",
      "  best_move = row[1]\n",
      "/tmp/ipykernel_1607089/2717491704.py:10: FutureWarning: Series.__getitem__ treating keys as positions is deprecated. In a future version, integer keys will always be treated as labels (consistent with DataFrame behavior). To access a value by position, use `ser.iloc[pos]`\n",
      "  fen = row[0]\n",
      "/tmp/ipykernel_1607089/2717491704.py:11: FutureWarning: Series.__getitem__ treating keys as positions is deprecated. In a future version, integer keys will always be treated as labels (consistent with DataFrame behavior). To access a value by position, use `ser.iloc[pos]`\n",
      "  best_move = row[1]\n"
     ]
    },
    {
     "name": "stdout",
     "output_type": "stream",
     "text": [
      "Board_FEN     r1bqkb1r/pp1n1pp1/5n1p/3pp3/8/2N1PN2/PP1PBPPP/...\n",
      " Best_Move                                                 d2d3\n",
      "Name: 86, dtype: object\n",
      "Board_FEN     r1bqkb1r/pp1n1pp1/5n1p/3pp3/8/2NPPN2/PP2BPPP/R...\n",
      " Best_Move                                                 a7a6\n",
      "Name: 87, dtype: object\n"
     ]
    },
    {
     "name": "stderr",
     "output_type": "stream",
     "text": [
      "/tmp/ipykernel_1607089/2717491704.py:10: FutureWarning: Series.__getitem__ treating keys as positions is deprecated. In a future version, integer keys will always be treated as labels (consistent with DataFrame behavior). To access a value by position, use `ser.iloc[pos]`\n",
      "  fen = row[0]\n",
      "/tmp/ipykernel_1607089/2717491704.py:11: FutureWarning: Series.__getitem__ treating keys as positions is deprecated. In a future version, integer keys will always be treated as labels (consistent with DataFrame behavior). To access a value by position, use `ser.iloc[pos]`\n",
      "  best_move = row[1]\n",
      "/tmp/ipykernel_1607089/2717491704.py:10: FutureWarning: Series.__getitem__ treating keys as positions is deprecated. In a future version, integer keys will always be treated as labels (consistent with DataFrame behavior). To access a value by position, use `ser.iloc[pos]`\n",
      "  fen = row[0]\n",
      "/tmp/ipykernel_1607089/2717491704.py:11: FutureWarning: Series.__getitem__ treating keys as positions is deprecated. In a future version, integer keys will always be treated as labels (consistent with DataFrame behavior). To access a value by position, use `ser.iloc[pos]`\n",
      "  best_move = row[1]\n"
     ]
    },
    {
     "name": "stdout",
     "output_type": "stream",
     "text": [
      "Board_FEN     r1bqkb1r/1p1n1pp1/p4n1p/3pp3/8/2NPPN2/PP2BPPP/...\n",
      " Best_Move                                                 b2b3\n",
      "Name: 88, dtype: object\n",
      "Board_FEN     r1bqkb1r/1p1n1pp1/p4n1p/3pp3/8/1PNPPN2/P3BPPP/...\n",
      " Best_Move                                                 f8d6\n",
      "Name: 89, dtype: object\n"
     ]
    },
    {
     "name": "stderr",
     "output_type": "stream",
     "text": [
      "/tmp/ipykernel_1607089/2717491704.py:10: FutureWarning: Series.__getitem__ treating keys as positions is deprecated. In a future version, integer keys will always be treated as labels (consistent with DataFrame behavior). To access a value by position, use `ser.iloc[pos]`\n",
      "  fen = row[0]\n",
      "/tmp/ipykernel_1607089/2717491704.py:11: FutureWarning: Series.__getitem__ treating keys as positions is deprecated. In a future version, integer keys will always be treated as labels (consistent with DataFrame behavior). To access a value by position, use `ser.iloc[pos]`\n",
      "  best_move = row[1]\n",
      "/tmp/ipykernel_1607089/2717491704.py:10: FutureWarning: Series.__getitem__ treating keys as positions is deprecated. In a future version, integer keys will always be treated as labels (consistent with DataFrame behavior). To access a value by position, use `ser.iloc[pos]`\n",
      "  fen = row[0]\n",
      "/tmp/ipykernel_1607089/2717491704.py:11: FutureWarning: Series.__getitem__ treating keys as positions is deprecated. In a future version, integer keys will always be treated as labels (consistent with DataFrame behavior). To access a value by position, use `ser.iloc[pos]`\n",
      "  best_move = row[1]\n"
     ]
    },
    {
     "name": "stdout",
     "output_type": "stream",
     "text": [
      "Board_FEN     r1bqk2r/1p1n1pp1/p2b1n1p/3pp3/8/1PNPPN2/P3BPPP...\n",
      " Best_Move                                                 c1b2\n",
      "Name: 90, dtype: object\n",
      "Board_FEN     r1bqk2r/1p1n1pp1/p2b1n1p/3pp3/8/1PNPPN2/PB2BPP...\n",
      " Best_Move                                                 e8g8\n",
      "Name: 91, dtype: object\n"
     ]
    },
    {
     "name": "stderr",
     "output_type": "stream",
     "text": [
      "/tmp/ipykernel_1607089/2717491704.py:10: FutureWarning: Series.__getitem__ treating keys as positions is deprecated. In a future version, integer keys will always be treated as labels (consistent with DataFrame behavior). To access a value by position, use `ser.iloc[pos]`\n",
      "  fen = row[0]\n",
      "/tmp/ipykernel_1607089/2717491704.py:11: FutureWarning: Series.__getitem__ treating keys as positions is deprecated. In a future version, integer keys will always be treated as labels (consistent with DataFrame behavior). To access a value by position, use `ser.iloc[pos]`\n",
      "  best_move = row[1]\n",
      "/tmp/ipykernel_1607089/2717491704.py:10: FutureWarning: Series.__getitem__ treating keys as positions is deprecated. In a future version, integer keys will always be treated as labels (consistent with DataFrame behavior). To access a value by position, use `ser.iloc[pos]`\n",
      "  fen = row[0]\n",
      "/tmp/ipykernel_1607089/2717491704.py:11: FutureWarning: Series.__getitem__ treating keys as positions is deprecated. In a future version, integer keys will always be treated as labels (consistent with DataFrame behavior). To access a value by position, use `ser.iloc[pos]`\n",
      "  best_move = row[1]\n"
     ]
    },
    {
     "name": "stdout",
     "output_type": "stream",
     "text": [
      "Board_FEN     r1bq1rk1/1p1n1pp1/p2b1n1p/3pp3/8/1PNPPN2/PB2BP...\n",
      " Best_Move                                                 a1b1\n",
      "Name: 92, dtype: object\n",
      "Board_FEN     r1bq1rk1/1p1n1pp1/p2b1n1p/3pp3/8/1PNPPN2/PB2BP...\n",
      " Best_Move                                                 b7b5\n",
      "Name: 93, dtype: object\n",
      "Board_FEN     r1bq1rk1/3n1pp1/p2b1n1p/1p1pp3/8/1PNPPN2/PB2BP...\n",
      " Best_Move                                                 d1d2\n",
      "Name: 94, dtype: object\n"
     ]
    },
    {
     "name": "stderr",
     "output_type": "stream",
     "text": [
      "/tmp/ipykernel_1607089/2717491704.py:10: FutureWarning: Series.__getitem__ treating keys as positions is deprecated. In a future version, integer keys will always be treated as labels (consistent with DataFrame behavior). To access a value by position, use `ser.iloc[pos]`\n",
      "  fen = row[0]\n",
      "/tmp/ipykernel_1607089/2717491704.py:11: FutureWarning: Series.__getitem__ treating keys as positions is deprecated. In a future version, integer keys will always be treated as labels (consistent with DataFrame behavior). To access a value by position, use `ser.iloc[pos]`\n",
      "  best_move = row[1]\n",
      "/tmp/ipykernel_1607089/2717491704.py:10: FutureWarning: Series.__getitem__ treating keys as positions is deprecated. In a future version, integer keys will always be treated as labels (consistent with DataFrame behavior). To access a value by position, use `ser.iloc[pos]`\n",
      "  fen = row[0]\n",
      "/tmp/ipykernel_1607089/2717491704.py:11: FutureWarning: Series.__getitem__ treating keys as positions is deprecated. In a future version, integer keys will always be treated as labels (consistent with DataFrame behavior). To access a value by position, use `ser.iloc[pos]`\n",
      "  best_move = row[1]\n"
     ]
    },
    {
     "name": "stdout",
     "output_type": "stream",
     "text": [
      "Board_FEN     r1bq1rk1/3n1pp1/p2b1n1p/1p1pp3/8/1PNPPN2/PB1QB...\n",
      " Best_Move                                                 d7c5\n",
      "Name: 95, dtype: object\n",
      "Board_FEN     r1bq1rk1/5pp1/p2b1n1p/1pnpp3/8/1PNPPN2/PB1QBPP...\n",
      " Best_Move                                                 f3e5\n",
      "Name: 96, dtype: object\n"
     ]
    },
    {
     "name": "stderr",
     "output_type": "stream",
     "text": [
      "/tmp/ipykernel_1607089/2717491704.py:10: FutureWarning: Series.__getitem__ treating keys as positions is deprecated. In a future version, integer keys will always be treated as labels (consistent with DataFrame behavior). To access a value by position, use `ser.iloc[pos]`\n",
      "  fen = row[0]\n",
      "/tmp/ipykernel_1607089/2717491704.py:11: FutureWarning: Series.__getitem__ treating keys as positions is deprecated. In a future version, integer keys will always be treated as labels (consistent with DataFrame behavior). To access a value by position, use `ser.iloc[pos]`\n",
      "  best_move = row[1]\n",
      "/tmp/ipykernel_1607089/2717491704.py:10: FutureWarning: Series.__getitem__ treating keys as positions is deprecated. In a future version, integer keys will always be treated as labels (consistent with DataFrame behavior). To access a value by position, use `ser.iloc[pos]`\n",
      "  fen = row[0]\n",
      "/tmp/ipykernel_1607089/2717491704.py:11: FutureWarning: Series.__getitem__ treating keys as positions is deprecated. In a future version, integer keys will always be treated as labels (consistent with DataFrame behavior). To access a value by position, use `ser.iloc[pos]`\n",
      "  best_move = row[1]\n"
     ]
    },
    {
     "name": "stdout",
     "output_type": "stream",
     "text": [
      "Board_FEN     r1bq1rk1/5pp1/p2b1n1p/1pnpN3/8/1PNPP3/PB1QBPPP...\n",
      " Best_Move                                                 d6e5\n",
      "Name: 97, dtype: object\n",
      "Board_FEN     r1bq1rk1/5pp1/p4n1p/1pnpb3/8/1PNPP3/PB1QBPPP/1...\n",
      " Best_Move                                                 d3d4\n",
      "Name: 98, dtype: object\n"
     ]
    },
    {
     "name": "stderr",
     "output_type": "stream",
     "text": [
      "/tmp/ipykernel_1607089/2717491704.py:10: FutureWarning: Series.__getitem__ treating keys as positions is deprecated. In a future version, integer keys will always be treated as labels (consistent with DataFrame behavior). To access a value by position, use `ser.iloc[pos]`\n",
      "  fen = row[0]\n",
      "/tmp/ipykernel_1607089/2717491704.py:11: FutureWarning: Series.__getitem__ treating keys as positions is deprecated. In a future version, integer keys will always be treated as labels (consistent with DataFrame behavior). To access a value by position, use `ser.iloc[pos]`\n",
      "  best_move = row[1]\n",
      "/tmp/ipykernel_1607089/2717491704.py:10: FutureWarning: Series.__getitem__ treating keys as positions is deprecated. In a future version, integer keys will always be treated as labels (consistent with DataFrame behavior). To access a value by position, use `ser.iloc[pos]`\n",
      "  fen = row[0]\n",
      "/tmp/ipykernel_1607089/2717491704.py:11: FutureWarning: Series.__getitem__ treating keys as positions is deprecated. In a future version, integer keys will always be treated as labels (consistent with DataFrame behavior). To access a value by position, use `ser.iloc[pos]`\n",
      "  best_move = row[1]\n"
     ]
    }
   ],
   "source": [
    "\n",
    "\n",
    "# Load data from CSV file\n",
    "#data = pd.read_csv(\"data.csv\")\n",
    "\n",
    "\n",
    "\n",
    "\n",
    "# Iterate through each row in the CSV file\n",
    "for index, row in data.iterrows():\n",
    "    print(row)\n",
    "    fen = row[0]\n",
    "    best_move = row[1]\n",
    "\n",
    "    # Parse FEN string\n",
    "    board = chess.Board(fen)\n",
    "\n",
    "    # Generate SVG representation of the board\n",
    "    svg_data = chess.svg.board(board=board)\n",
    "\n",
    "    # Convert SVG to PNG image\n",
    "    png_data = cairosvg.svg2png(bytestring=svg_data)\n",
    "\n",
    "    # Convert PNG to PIL Image\n",
    "    image = Image.open(BytesIO(png_data))\n",
    "\n",
    "    # Highlight best move\n",
    "    # Example: Assuming best_move is in algebraic notation (e.g., \"e2e4\")\n",
    "    from_square = chess.SQUARE_NAMES.index(best_move[:2])\n",
    "    to_square = chess.SQUARE_NAMES.index(best_move[2:])\n",
    "    move_coords = [(from_square % 8, 7 - from_square // 8), (to_square % 8, 7 - to_square // 8)]\n",
    "    draw = ImageDraw.Draw(image)\n",
    "    draw.line(move_coords, fill=\"red\", width=3)\n",
    "\n",
    "    # Save or display image\n",
    "    image.show()\n"
   ]
  }
 ],
 "metadata": {
  "kernelspec": {
   "display_name": "venv",
   "language": "python",
   "name": "python3"
  },
  "language_info": {
   "codemirror_mode": {
    "name": "ipython",
    "version": 3
   },
   "file_extension": ".py",
   "mimetype": "text/x-python",
   "name": "python",
   "nbconvert_exporter": "python",
   "pygments_lexer": "ipython3",
   "version": "3.10.12"
  }
 },
 "nbformat": 4,
 "nbformat_minor": 2
}
